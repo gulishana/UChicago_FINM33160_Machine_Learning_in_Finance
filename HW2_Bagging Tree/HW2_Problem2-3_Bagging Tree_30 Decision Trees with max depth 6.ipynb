{
 "cells": [
  {
   "cell_type": "markdown",
   "metadata": {},
   "source": [
    "## Bagging Classifier (from Decision Tree)\n",
    "\n",
    "Here we create a BaggingClassifier with a DecisionTreeClassifier with \n",
    "- max_depth = 6\n",
    "- n_estimators = 30"
   ]
  },
  {
   "cell_type": "markdown",
   "metadata": {},
   "source": [
    "## Table of Content"
   ]
  },
  {
   "cell_type": "markdown",
   "metadata": {},
   "source": [
    "<div id=\"toc\"></div>"
   ]
  },
  {
   "cell_type": "code",
   "execution_count": 1,
   "metadata": {},
   "outputs": [
    {
     "data": {
      "application/javascript": [
       "$.getScript('https://kmahelona.github.io/ipython_notebook_goodies/ipython_notebook_toc.js')\n"
      ],
      "text/plain": [
       "<IPython.core.display.Javascript object>"
      ]
     },
     "metadata": {},
     "output_type": "display_data"
    }
   ],
   "source": [
    "%%javascript\n",
    "$.getScript('https://kmahelona.github.io/ipython_notebook_goodies/ipython_notebook_toc.js')"
   ]
  },
  {
   "cell_type": "code",
   "execution_count": 2,
   "metadata": {},
   "outputs": [],
   "source": [
    "import pandas as pd\n",
    "import numpy as np\n",
    "import matplotlib.pyplot as plt\n",
    "%matplotlib inline\n",
    "\n",
    "from sklearn.metrics import accuracy_score, confusion_matrix\n",
    "from sklearn.tree import DecisionTreeClassifier\n",
    "from sklearn.ensemble import BaggingClassifier\n",
    "\n",
    "pd.set_option('use_inf_as_na', True)\n",
    "from collections import Counter"
   ]
  },
  {
   "cell_type": "code",
   "execution_count": 3,
   "metadata": {},
   "outputs": [],
   "source": [
    "raw_data = pd.read_pickle(r'..\\HW1_Decision Tree\\dataset.pkl')"
   ]
  },
  {
   "cell_type": "code",
   "execution_count": 4,
   "metadata": {},
   "outputs": [],
   "source": [
    "data = raw_data[raw_data['market_cap'] > 1000.0]"
   ]
  },
  {
   "cell_type": "code",
   "execution_count": 5,
   "metadata": {},
   "outputs": [
    {
     "name": "stderr",
     "output_type": "stream",
     "text": [
      "c:\\users\\gulishana\\appdata\\local\\programs\\python\\python37\\lib\\site-packages\\pandas\\core\\frame.py:4034: SettingWithCopyWarning: \n",
      "A value is trying to be set on a copy of a slice from a DataFrame\n",
      "\n",
      "See the caveats in the documentation: http://pandas.pydata.org/pandas-docs/stable/indexing.html#indexing-view-versus-copy\n",
      "  downcast=downcast, **kwargs)\n"
     ]
    }
   ],
   "source": [
    "data.fillna(0.0, inplace=True)"
   ]
  },
  {
   "cell_type": "markdown",
   "metadata": {},
   "source": [
    "### Insert a column in the data set with entries: (1) 2 if the stock return is more then 5% higher than the SPY return; (2) 1 if it is more than 1% but less than 5% higher; (3) 0 if it is between -1% and 1%; (4) -2 if the stock underperforms the SPY by more than -5%; (5) -1 if the performance is between -1% and -5%"
   ]
  },
  {
   "cell_type": "code",
   "execution_count": 6,
   "metadata": {},
   "outputs": [],
   "source": [
    "def f(x):\n",
    "    if x > 0.05:\n",
    "        return 2\n",
    "    elif x >0.01 and x<= 0.05:\n",
    "        return 1\n",
    "    elif x > -0.01 and x<= 0.01:\n",
    "        return 0\n",
    "    elif x > -0.05 and x<= -0.01:\n",
    "        return -1\n",
    "    else:\n",
    "        return -2"
   ]
  },
  {
   "cell_type": "code",
   "execution_count": 7,
   "metadata": {},
   "outputs": [
    {
     "name": "stderr",
     "output_type": "stream",
     "text": [
      "c:\\users\\gulishana\\appdata\\local\\programs\\python\\python37\\lib\\site-packages\\ipykernel_launcher.py:1: SettingWithCopyWarning: \n",
      "A value is trying to be set on a copy of a slice from a DataFrame.\n",
      "Try using .loc[row_indexer,col_indexer] = value instead\n",
      "\n",
      "See the caveats in the documentation: http://pandas.pydata.org/pandas-docs/stable/indexing.html#indexing-view-versus-copy\n",
      "  \"\"\"Entry point for launching an IPython kernel.\n"
     ]
    }
   ],
   "source": [
    "data['rel_performance'] = data['pred_rel_return'].apply(f)"
   ]
  },
  {
   "cell_type": "code",
   "execution_count": 8,
   "metadata": {},
   "outputs": [],
   "source": [
    "data.reset_index(inplace=True,)\n",
    "data.set_index('date',inplace=True)"
   ]
  },
  {
   "cell_type": "code",
   "execution_count": 9,
   "metadata": {},
   "outputs": [
    {
     "data": {
      "text/html": [
       "<div>\n",
       "<style scoped>\n",
       "    .dataframe tbody tr th:only-of-type {\n",
       "        vertical-align: middle;\n",
       "    }\n",
       "\n",
       "    .dataframe tbody tr th {\n",
       "        vertical-align: top;\n",
       "    }\n",
       "\n",
       "    .dataframe thead th {\n",
       "        text-align: right;\n",
       "    }\n",
       "</style>\n",
       "<table border=\"1\" class=\"dataframe\">\n",
       "  <thead>\n",
       "    <tr style=\"text-align: right;\">\n",
       "      <th></th>\n",
       "      <th>ticker</th>\n",
       "      <th>actq</th>\n",
       "      <th>apq</th>\n",
       "      <th>atq</th>\n",
       "      <th>ceqq</th>\n",
       "      <th>cheq</th>\n",
       "      <th>cogsq</th>\n",
       "      <th>csh12q</th>\n",
       "      <th>cshfdq</th>\n",
       "      <th>cshiq</th>\n",
       "      <th>...</th>\n",
       "      <th>sector_code_817.0</th>\n",
       "      <th>sector_code_822.0</th>\n",
       "      <th>sector_code_823.0</th>\n",
       "      <th>sector_code_825.0</th>\n",
       "      <th>sector_code_830.0</th>\n",
       "      <th>sector_code_835.0</th>\n",
       "      <th>sector_code_840.0</th>\n",
       "      <th>sector_code_845.0</th>\n",
       "      <th>sector_code_850.0</th>\n",
       "      <th>rel_performance</th>\n",
       "    </tr>\n",
       "    <tr>\n",
       "      <th>date</th>\n",
       "      <th></th>\n",
       "      <th></th>\n",
       "      <th></th>\n",
       "      <th></th>\n",
       "      <th></th>\n",
       "      <th></th>\n",
       "      <th></th>\n",
       "      <th></th>\n",
       "      <th></th>\n",
       "      <th></th>\n",
       "      <th></th>\n",
       "      <th></th>\n",
       "      <th></th>\n",
       "      <th></th>\n",
       "      <th></th>\n",
       "      <th></th>\n",
       "      <th></th>\n",
       "      <th></th>\n",
       "      <th></th>\n",
       "      <th></th>\n",
       "      <th></th>\n",
       "    </tr>\n",
       "  </thead>\n",
       "  <tbody>\n",
       "    <tr>\n",
       "      <th>2000-02-09</th>\n",
       "      <td>CSCO</td>\n",
       "      <td>7722.000</td>\n",
       "      <td>482.000</td>\n",
       "      <td>21391.000</td>\n",
       "      <td>16523.000</td>\n",
       "      <td>3968.000</td>\n",
       "      <td>1422.000</td>\n",
       "      <td>3374.1250</td>\n",
       "      <td>3648.000</td>\n",
       "      <td>3445.000</td>\n",
       "      <td>...</td>\n",
       "      <td>0</td>\n",
       "      <td>0</td>\n",
       "      <td>0</td>\n",
       "      <td>0</td>\n",
       "      <td>0</td>\n",
       "      <td>0</td>\n",
       "      <td>0</td>\n",
       "      <td>0</td>\n",
       "      <td>0</td>\n",
       "      <td>-1</td>\n",
       "    </tr>\n",
       "    <tr>\n",
       "      <th>2000-02-09</th>\n",
       "      <td>ROP</td>\n",
       "      <td>172.725</td>\n",
       "      <td>19.662</td>\n",
       "      <td>474.649</td>\n",
       "      <td>239.432</td>\n",
       "      <td>3.198</td>\n",
       "      <td>47.634</td>\n",
       "      <td>30.2688</td>\n",
       "      <td>31.217</td>\n",
       "      <td>0.000</td>\n",
       "      <td>...</td>\n",
       "      <td>0</td>\n",
       "      <td>0</td>\n",
       "      <td>0</td>\n",
       "      <td>0</td>\n",
       "      <td>0</td>\n",
       "      <td>0</td>\n",
       "      <td>0</td>\n",
       "      <td>0</td>\n",
       "      <td>0</td>\n",
       "      <td>2</td>\n",
       "    </tr>\n",
       "    <tr>\n",
       "      <th>2000-02-10</th>\n",
       "      <td>CMOS</td>\n",
       "      <td>240.767</td>\n",
       "      <td>27.044</td>\n",
       "      <td>376.536</td>\n",
       "      <td>209.411</td>\n",
       "      <td>68.625</td>\n",
       "      <td>43.023</td>\n",
       "      <td>21.4360</td>\n",
       "      <td>23.753</td>\n",
       "      <td>0.000</td>\n",
       "      <td>...</td>\n",
       "      <td>0</td>\n",
       "      <td>0</td>\n",
       "      <td>0</td>\n",
       "      <td>0</td>\n",
       "      <td>0</td>\n",
       "      <td>0</td>\n",
       "      <td>0</td>\n",
       "      <td>0</td>\n",
       "      <td>0</td>\n",
       "      <td>2</td>\n",
       "    </tr>\n",
       "    <tr>\n",
       "      <th>2000-02-11</th>\n",
       "      <td>DELL</td>\n",
       "      <td>7681.000</td>\n",
       "      <td>3538.000</td>\n",
       "      <td>11471.000</td>\n",
       "      <td>5308.000</td>\n",
       "      <td>4132.000</td>\n",
       "      <td>5452.000</td>\n",
       "      <td>2536.0000</td>\n",
       "      <td>2731.000</td>\n",
       "      <td>2575.000</td>\n",
       "      <td>...</td>\n",
       "      <td>0</td>\n",
       "      <td>0</td>\n",
       "      <td>0</td>\n",
       "      <td>0</td>\n",
       "      <td>0</td>\n",
       "      <td>0</td>\n",
       "      <td>0</td>\n",
       "      <td>0</td>\n",
       "      <td>0</td>\n",
       "      <td>2</td>\n",
       "    </tr>\n",
       "    <tr>\n",
       "      <th>2000-02-15</th>\n",
       "      <td>VAL</td>\n",
       "      <td>507.082</td>\n",
       "      <td>139.497</td>\n",
       "      <td>1094.080</td>\n",
       "      <td>402.382</td>\n",
       "      <td>27.605</td>\n",
       "      <td>221.366</td>\n",
       "      <td>43.1858</td>\n",
       "      <td>43.687</td>\n",
       "      <td>53.321</td>\n",
       "      <td>...</td>\n",
       "      <td>0</td>\n",
       "      <td>0</td>\n",
       "      <td>0</td>\n",
       "      <td>0</td>\n",
       "      <td>0</td>\n",
       "      <td>0</td>\n",
       "      <td>0</td>\n",
       "      <td>0</td>\n",
       "      <td>0</td>\n",
       "      <td>1</td>\n",
       "    </tr>\n",
       "  </tbody>\n",
       "</table>\n",
       "<p>5 rows × 733 columns</p>\n",
       "</div>"
      ],
      "text/plain": [
       "           ticker      actq       apq        atq       ceqq      cheq  \\\n",
       "date                                                                    \n",
       "2000-02-09   CSCO  7722.000   482.000  21391.000  16523.000  3968.000   \n",
       "2000-02-09    ROP   172.725    19.662    474.649    239.432     3.198   \n",
       "2000-02-10   CMOS   240.767    27.044    376.536    209.411    68.625   \n",
       "2000-02-11   DELL  7681.000  3538.000  11471.000   5308.000  4132.000   \n",
       "2000-02-15    VAL   507.082   139.497   1094.080    402.382    27.605   \n",
       "\n",
       "               cogsq     csh12q    cshfdq     cshiq  ...  sector_code_817.0  \\\n",
       "date                                                 ...                      \n",
       "2000-02-09  1422.000  3374.1250  3648.000  3445.000  ...                  0   \n",
       "2000-02-09    47.634    30.2688    31.217     0.000  ...                  0   \n",
       "2000-02-10    43.023    21.4360    23.753     0.000  ...                  0   \n",
       "2000-02-11  5452.000  2536.0000  2731.000  2575.000  ...                  0   \n",
       "2000-02-15   221.366    43.1858    43.687    53.321  ...                  0   \n",
       "\n",
       "            sector_code_822.0  sector_code_823.0  sector_code_825.0  \\\n",
       "date                                                                  \n",
       "2000-02-09                  0                  0                  0   \n",
       "2000-02-09                  0                  0                  0   \n",
       "2000-02-10                  0                  0                  0   \n",
       "2000-02-11                  0                  0                  0   \n",
       "2000-02-15                  0                  0                  0   \n",
       "\n",
       "            sector_code_830.0  sector_code_835.0  sector_code_840.0  \\\n",
       "date                                                                  \n",
       "2000-02-09                  0                  0                  0   \n",
       "2000-02-09                  0                  0                  0   \n",
       "2000-02-10                  0                  0                  0   \n",
       "2000-02-11                  0                  0                  0   \n",
       "2000-02-15                  0                  0                  0   \n",
       "\n",
       "            sector_code_845.0  sector_code_850.0  rel_performance  \n",
       "date                                                               \n",
       "2000-02-09                  0                  0               -1  \n",
       "2000-02-09                  0                  0                2  \n",
       "2000-02-10                  0                  0                2  \n",
       "2000-02-11                  0                  0                2  \n",
       "2000-02-15                  0                  0                1  \n",
       "\n",
       "[5 rows x 733 columns]"
      ]
     },
     "execution_count": 9,
     "metadata": {},
     "output_type": "execute_result"
    }
   ],
   "source": [
    "data.head()"
   ]
  },
  {
   "cell_type": "markdown",
   "metadata": {},
   "source": [
    "### Use the period 2007-04-30 to 2010-04-30 to train the model"
   ]
  },
  {
   "cell_type": "code",
   "execution_count": 10,
   "metadata": {},
   "outputs": [],
   "source": [
    "df_1 = data.loc['2007-04-30':'2010-04-30']"
   ]
  },
  {
   "cell_type": "markdown",
   "metadata": {},
   "source": [
    "### Use the period 2010-07-31 to 2010-10-31 to find the optimal features"
   ]
  },
  {
   "cell_type": "code",
   "execution_count": 11,
   "metadata": {},
   "outputs": [],
   "source": [
    "df_valid = data.loc['2010-07-31':'2010-10-31']"
   ]
  },
  {
   "cell_type": "code",
   "execution_count": 12,
   "metadata": {},
   "outputs": [],
   "source": [
    "train_1 = df_1.reset_index().drop(['ticker','date',\n",
    "                                   'next_period_return',\n",
    "                                   'spy_next_period_return',\n",
    "                                   'rel_performance','pred_rel_return',\n",
    "                                  'return', 'cum_ret', 'spy_cum_ret'],axis=1)\n",
    "\n",
    "\n",
    "valid = df_valid.reset_index().drop(['ticker','date',\n",
    "                                   'next_period_return',\n",
    "                                   'spy_next_period_return',\n",
    "                                   'rel_performance','pred_rel_return',\n",
    "                                  'return', 'cum_ret', 'spy_cum_ret'],axis=1)"
   ]
  },
  {
   "cell_type": "code",
   "execution_count": 13,
   "metadata": {},
   "outputs": [],
   "source": [
    "train_1_stock_returns = df_1['next_period_return']\n",
    "valid_stock_returns = df_valid['next_period_return']"
   ]
  },
  {
   "cell_type": "code",
   "execution_count": 14,
   "metadata": {},
   "outputs": [],
   "source": [
    "y_1 = df_1['rel_performance']\n",
    "y_valid = df_valid['rel_performance']"
   ]
  },
  {
   "cell_type": "code",
   "execution_count": 15,
   "metadata": {},
   "outputs": [],
   "source": [
    "y_1 = y_1.values\n",
    "y_valid = y_valid.values"
   ]
  },
  {
   "cell_type": "markdown",
   "metadata": {},
   "source": [
    "### Create a DecisionTreeClassifier with `max_depth = 6`"
   ]
  },
  {
   "cell_type": "code",
   "execution_count": 16,
   "metadata": {},
   "outputs": [],
   "source": [
    "t_clf = DecisionTreeClassifier(min_samples_leaf=1800, max_depth=6)"
   ]
  },
  {
   "cell_type": "markdown",
   "metadata": {},
   "source": [
    "### Create a BaggingClassifier with # `n_estimators = 30` DecisionTreeClassifiers"
   ]
  },
  {
   "cell_type": "code",
   "execution_count": 17,
   "metadata": {},
   "outputs": [],
   "source": [
    "bg_clf = BaggingClassifier(t_clf, n_estimators=30, oob_score=True, random_state=123, n_jobs=-1)"
   ]
  },
  {
   "cell_type": "code",
   "execution_count": 18,
   "metadata": {},
   "outputs": [
    {
     "data": {
      "text/plain": [
       "BaggingClassifier(base_estimator=DecisionTreeClassifier(class_weight=None, criterion='gini', max_depth=6,\n",
       "            max_features=None, max_leaf_nodes=None,\n",
       "            min_impurity_decrease=0.0, min_impurity_split=None,\n",
       "            min_samples_leaf=1800, min_samples_split=2,\n",
       "            min_weight_fraction_leaf=0.0, presort=False, random_state=None,\n",
       "            splitter='best'),\n",
       "         bootstrap=True, bootstrap_features=False, max_features=1.0,\n",
       "         max_samples=1.0, n_estimators=30, n_jobs=-1, oob_score=True,\n",
       "         random_state=123, verbose=0, warm_start=False)"
      ]
     },
     "execution_count": 18,
     "metadata": {},
     "output_type": "execute_result"
    }
   ],
   "source": [
    "bg_clf.fit(train_1,y_1)"
   ]
  },
  {
   "cell_type": "code",
   "execution_count": 19,
   "metadata": {},
   "outputs": [
    {
     "data": {
      "text/plain": [
       "0.4176994457246061"
      ]
     },
     "execution_count": 19,
     "metadata": {},
     "output_type": "execute_result"
    }
   ],
   "source": [
    "bg_clf.score(train_1,y_1)"
   ]
  },
  {
   "cell_type": "code",
   "execution_count": 20,
   "metadata": {},
   "outputs": [
    {
     "data": {
      "text/plain": [
       "0.36909871244635195"
      ]
     },
     "execution_count": 20,
     "metadata": {},
     "output_type": "execute_result"
    }
   ],
   "source": [
    "bg_clf.score(valid,y_valid)"
   ]
  },
  {
   "cell_type": "code",
   "execution_count": 21,
   "metadata": {},
   "outputs": [],
   "source": [
    "pred_valid = bg_clf.predict(valid)"
   ]
  },
  {
   "cell_type": "code",
   "execution_count": 22,
   "metadata": {},
   "outputs": [
    {
     "data": {
      "text/plain": [
       "Counter({2: 1382, -2: 16})"
      ]
     },
     "execution_count": 22,
     "metadata": {},
     "output_type": "execute_result"
    }
   ],
   "source": [
    "Counter(pred_valid)"
   ]
  },
  {
   "cell_type": "code",
   "execution_count": 23,
   "metadata": {},
   "outputs": [
    {
     "data": {
      "text/plain": [
       "Counter({-1: 191, 2: 522, 1: 209, 0: 134, -2: 342})"
      ]
     },
     "execution_count": 23,
     "metadata": {},
     "output_type": "execute_result"
    }
   ],
   "source": [
    "Counter(y_valid)"
   ]
  },
  {
   "cell_type": "code",
   "execution_count": 24,
   "metadata": {},
   "outputs": [
    {
     "data": {
      "text/plain": [
       "0.41471009528554525"
      ]
     },
     "execution_count": 24,
     "metadata": {},
     "output_type": "execute_result"
    }
   ],
   "source": [
    "bg_clf.oob_score_"
   ]
  },
  {
   "cell_type": "code",
   "execution_count": 25,
   "metadata": {},
   "outputs": [
    {
     "data": {
      "text/plain": [
       "array([[  4,   0,   0,   0, 338],\n",
       "       [  2,   0,   0,   0, 189],\n",
       "       [  0,   0,   0,   0, 134],\n",
       "       [  0,   0,   0,   0, 209],\n",
       "       [ 10,   0,   0,   0, 512]], dtype=int64)"
      ]
     },
     "execution_count": 25,
     "metadata": {},
     "output_type": "execute_result"
    }
   ],
   "source": [
    "confusion_matrix(y_valid,pred_valid)"
   ]
  },
  {
   "cell_type": "code",
   "execution_count": 26,
   "metadata": {},
   "outputs": [],
   "source": [
    "def baggingtree_feat_importance(m, df):\n",
    "    feature_importances = []\n",
    "    for est in m.estimators_:\n",
    "        fi = est.feature_importances_\n",
    "        feature_importances.append(fi)\n",
    "    feature_importances = np.array(feature_importances)\n",
    "    print(feature_importances.shape)\n",
    "        \n",
    "    return pd.DataFrame({'cols':df.columns, 'feat_imp':np.mean(feature_importances,axis=0)}\n",
    "                       ).sort_values('feat_imp', ascending=False)\n",
    "\n",
    "def plot_fi(fi): return fi.plot('cols', 'feat_imp', 'barh', figsize=(12,7), legend=False)"
   ]
  },
  {
   "cell_type": "code",
   "execution_count": 27,
   "metadata": {},
   "outputs": [
    {
     "name": "stdout",
     "output_type": "stream",
     "text": [
      "(30, 725)\n"
     ]
    }
   ],
   "source": [
    "fi = baggingtree_feat_importance(bg_clf,train_1)"
   ]
  },
  {
   "cell_type": "code",
   "execution_count": 28,
   "metadata": {},
   "outputs": [],
   "source": [
    "features = fi[(fi['feat_imp'] > 0.003)]\n",
    "#features"
   ]
  },
  {
   "cell_type": "code",
   "execution_count": 29,
   "metadata": {
    "scrolled": true
   },
   "outputs": [
    {
     "data": {
      "image/png": "[encoded data removed]",
      "text/plain": [
       "<Figure size 864x504 with 1 Axes>"
      ]
     },
     "metadata": {
      "needs_background": "light"
     },
     "output_type": "display_data"
    }
   ],
   "source": [
    "plot_fi(features);"
   ]
  },
  {
   "cell_type": "code",
   "execution_count": 30,
   "metadata": {},
   "outputs": [
    {
     "data": {
      "text/plain": [
       "29"
      ]
     },
     "execution_count": 30,
     "metadata": {},
     "output_type": "execute_result"
    }
   ],
   "source": [
    "len(features['cols'].values)"
   ]
  },
  {
   "cell_type": "code",
   "execution_count": 31,
   "metadata": {},
   "outputs": [],
   "source": [
    "train_1 = train_1[features['cols'].values]\n",
    "valid = valid[features['cols'].values]"
   ]
  },
  {
   "cell_type": "code",
   "execution_count": 32,
   "metadata": {},
   "outputs": [
    {
     "data": {
      "text/plain": [
       "0.4176994457246061"
      ]
     },
     "execution_count": 32,
     "metadata": {},
     "output_type": "execute_result"
    }
   ],
   "source": [
    "bg_clf.fit(train_1,y_1)\n",
    "bg_clf.score(train_1,y_1)"
   ]
  },
  {
   "cell_type": "code",
   "execution_count": 33,
   "metadata": {},
   "outputs": [
    {
     "data": {
      "text/plain": [
       "0.36909871244635195"
      ]
     },
     "execution_count": 33,
     "metadata": {},
     "output_type": "execute_result"
    }
   ],
   "source": [
    "pred_valid = bg_clf.predict(valid)\n",
    "bg_clf.score(valid,y_valid)"
   ]
  },
  {
   "cell_type": "code",
   "execution_count": 34,
   "metadata": {},
   "outputs": [
    {
     "data": {
      "text/plain": [
       "0.41471009528554525"
      ]
     },
     "execution_count": 34,
     "metadata": {},
     "output_type": "execute_result"
    }
   ],
   "source": [
    "bg_clf.oob_score_"
   ]
  },
  {
   "cell_type": "code",
   "execution_count": 35,
   "metadata": {},
   "outputs": [
    {
     "data": {
      "text/plain": [
       "342.9676800000001"
      ]
     },
     "execution_count": 35,
     "metadata": {},
     "output_type": "execute_result"
    }
   ],
   "source": [
    "(pred_valid * valid_stock_returns).sum()"
   ]
  },
  {
   "cell_type": "code",
   "execution_count": 36,
   "metadata": {},
   "outputs": [],
   "source": [
    "def profit_importance(t,df,rets):\n",
    "#     np.random.seed(123)\n",
    "    profit = []\n",
    "    for col in df.columns:\n",
    "        prof = []\n",
    "        for _ in range(10):\n",
    "            X = df.copy()\n",
    "            X[col] = np.random.permutation(df[col].values)\n",
    "            prediction = t.predict(X)\n",
    "            prof.append((prediction * rets).sum())\n",
    "        profit.append(np.mean(prof))\n",
    "    return profit"
   ]
  },
  {
   "cell_type": "code",
   "execution_count": 37,
   "metadata": {},
   "outputs": [],
   "source": [
    "def baggingtree_profit_importance(m, df,rets):\n",
    "    return pd.DataFrame({'cols':df.columns, 'pi_imp':profit_importance(m,df,rets)}\n",
    "                       ).sort_values('pi_imp', ascending=True)"
   ]
  },
  {
   "cell_type": "code",
   "execution_count": 38,
   "metadata": {},
   "outputs": [
    {
     "data": {
      "text/html": [
       "<div>\n",
       "<style scoped>\n",
       "    .dataframe tbody tr th:only-of-type {\n",
       "        vertical-align: middle;\n",
       "    }\n",
       "\n",
       "    .dataframe tbody tr th {\n",
       "        vertical-align: top;\n",
       "    }\n",
       "\n",
       "    .dataframe thead th {\n",
       "        text-align: right;\n",
       "    }\n",
       "</style>\n",
       "<table border=\"1\" class=\"dataframe\">\n",
       "  <thead>\n",
       "    <tr style=\"text-align: right;\">\n",
       "      <th></th>\n",
       "      <th>cols</th>\n",
       "      <th>pi_imp</th>\n",
       "    </tr>\n",
       "  </thead>\n",
       "  <tbody>\n",
       "    <tr>\n",
       "      <th>14</th>\n",
       "      <td>ltq</td>\n",
       "      <td>342.967680</td>\n",
       "    </tr>\n",
       "    <tr>\n",
       "      <th>25</th>\n",
       "      <td>pcfq</td>\n",
       "      <td>342.967680</td>\n",
       "    </tr>\n",
       "    <tr>\n",
       "      <th>24</th>\n",
       "      <td>debt_ebitdaq</td>\n",
       "      <td>342.967680</td>\n",
       "    </tr>\n",
       "    <tr>\n",
       "      <th>23</th>\n",
       "      <td>curr_ratioq</td>\n",
       "      <td>342.967680</td>\n",
       "    </tr>\n",
       "    <tr>\n",
       "      <th>22</th>\n",
       "      <td>dvpspq</td>\n",
       "      <td>342.967680</td>\n",
       "    </tr>\n",
       "    <tr>\n",
       "      <th>21</th>\n",
       "      <td>debt_assetsq</td>\n",
       "      <td>342.967680</td>\n",
       "    </tr>\n",
       "    <tr>\n",
       "      <th>20</th>\n",
       "      <td>oepsxy</td>\n",
       "      <td>342.967680</td>\n",
       "    </tr>\n",
       "    <tr>\n",
       "      <th>19</th>\n",
       "      <td>ibq</td>\n",
       "      <td>342.967680</td>\n",
       "    </tr>\n",
       "    <tr>\n",
       "      <th>18</th>\n",
       "      <td>dvq</td>\n",
       "      <td>342.967680</td>\n",
       "    </tr>\n",
       "    <tr>\n",
       "      <th>15</th>\n",
       "      <td>pretret_earnatq</td>\n",
       "      <td>342.967680</td>\n",
       "    </tr>\n",
       "    <tr>\n",
       "      <th>27</th>\n",
       "      <td>opepsq</td>\n",
       "      <td>342.967680</td>\n",
       "    </tr>\n",
       "    <tr>\n",
       "      <th>13</th>\n",
       "      <td>epsfxq</td>\n",
       "      <td>342.967680</td>\n",
       "    </tr>\n",
       "    <tr>\n",
       "      <th>28</th>\n",
       "      <td>apq</td>\n",
       "      <td>342.967680</td>\n",
       "    </tr>\n",
       "    <tr>\n",
       "      <th>11</th>\n",
       "      <td>ibcq</td>\n",
       "      <td>342.967680</td>\n",
       "    </tr>\n",
       "    <tr>\n",
       "      <th>7</th>\n",
       "      <td>roceq</td>\n",
       "      <td>342.967680</td>\n",
       "    </tr>\n",
       "    <tr>\n",
       "      <th>4</th>\n",
       "      <td>prccq</td>\n",
       "      <td>342.967680</td>\n",
       "    </tr>\n",
       "    <tr>\n",
       "      <th>16</th>\n",
       "      <td>dvy</td>\n",
       "      <td>343.584296</td>\n",
       "    </tr>\n",
       "    <tr>\n",
       "      <th>12</th>\n",
       "      <td>aftret_eqq</td>\n",
       "      <td>343.892604</td>\n",
       "    </tr>\n",
       "    <tr>\n",
       "      <th>5</th>\n",
       "      <td>dprq</td>\n",
       "      <td>343.954363</td>\n",
       "    </tr>\n",
       "    <tr>\n",
       "      <th>26</th>\n",
       "      <td>capxq</td>\n",
       "      <td>344.617481</td>\n",
       "    </tr>\n",
       "    <tr>\n",
       "      <th>10</th>\n",
       "      <td>intcov_ratioq</td>\n",
       "      <td>344.618575</td>\n",
       "    </tr>\n",
       "    <tr>\n",
       "      <th>3</th>\n",
       "      <td>cf_yield</td>\n",
       "      <td>344.868084</td>\n",
       "    </tr>\n",
       "    <tr>\n",
       "      <th>17</th>\n",
       "      <td>opmbdq</td>\n",
       "      <td>345.114675</td>\n",
       "    </tr>\n",
       "    <tr>\n",
       "      <th>0</th>\n",
       "      <td>fqtr_2</td>\n",
       "      <td>345.519297</td>\n",
       "    </tr>\n",
       "    <tr>\n",
       "      <th>8</th>\n",
       "      <td>oancfy</td>\n",
       "      <td>346.644643</td>\n",
       "    </tr>\n",
       "    <tr>\n",
       "      <th>9</th>\n",
       "      <td>ocf_lctq</td>\n",
       "      <td>346.747421</td>\n",
       "    </tr>\n",
       "    <tr>\n",
       "      <th>1</th>\n",
       "      <td>teqq</td>\n",
       "      <td>349.038595</td>\n",
       "    </tr>\n",
       "    <tr>\n",
       "      <th>2</th>\n",
       "      <td>fcf_yield</td>\n",
       "      <td>349.853905</td>\n",
       "    </tr>\n",
       "    <tr>\n",
       "      <th>6</th>\n",
       "      <td>fcf_csfhdq</td>\n",
       "      <td>350.191048</td>\n",
       "    </tr>\n",
       "  </tbody>\n",
       "</table>\n",
       "</div>"
      ],
      "text/plain": [
       "               cols      pi_imp\n",
       "14              ltq  342.967680\n",
       "25             pcfq  342.967680\n",
       "24     debt_ebitdaq  342.967680\n",
       "23      curr_ratioq  342.967680\n",
       "22           dvpspq  342.967680\n",
       "21     debt_assetsq  342.967680\n",
       "20           oepsxy  342.967680\n",
       "19              ibq  342.967680\n",
       "18              dvq  342.967680\n",
       "15  pretret_earnatq  342.967680\n",
       "27           opepsq  342.967680\n",
       "13           epsfxq  342.967680\n",
       "28              apq  342.967680\n",
       "11             ibcq  342.967680\n",
       "7             roceq  342.967680\n",
       "4             prccq  342.967680\n",
       "16              dvy  343.584296\n",
       "12       aftret_eqq  343.892604\n",
       "5              dprq  343.954363\n",
       "26            capxq  344.617481\n",
       "10    intcov_ratioq  344.618575\n",
       "3          cf_yield  344.868084\n",
       "17           opmbdq  345.114675\n",
       "0            fqtr_2  345.519297\n",
       "8            oancfy  346.644643\n",
       "9          ocf_lctq  346.747421\n",
       "1              teqq  349.038595\n",
       "2         fcf_yield  349.853905\n",
       "6        fcf_csfhdq  350.191048"
      ]
     },
     "execution_count": 38,
     "metadata": {},
     "output_type": "execute_result"
    }
   ],
   "source": [
    "pi = baggingtree_profit_importance(bg_clf,valid,df_valid['next_period_return'])\n",
    "pi"
   ]
  },
  {
   "cell_type": "code",
   "execution_count": 39,
   "metadata": {},
   "outputs": [
    {
     "name": "stdout",
     "output_type": "stream",
     "text": [
      "344.50922\n",
      "350.877028\n",
      "351.43109200000004\n",
      "347.41149600000006\n",
      "349.05766800000004\n",
      "350.964112\n",
      "350.964112\n",
      "352.34586\n",
      "352.34586\n",
      "352.34586\n",
      "352.34586\n",
      "352.34586\n",
      "352.34586\n",
      "352.34586\n",
      "352.34586\n",
      "352.34586\n",
      "352.34586\n",
      "352.34586\n",
      "352.34586\n",
      "352.34586\n",
      "352.34586\n",
      "352.34586\n",
      "352.34586\n",
      "352.34586\n",
      "352.34586\n",
      "352.34586\n",
      "352.34586\n",
      "352.34586\n"
     ]
    }
   ],
   "source": [
    "profits = []\n",
    "feat=[]\n",
    "\n",
    "train = train_1.copy()\n",
    "validation = valid.copy()\n",
    "\n",
    "while len(train.columns)>1:\n",
    "\n",
    "    col_to_drop = pi.iloc[-1]['cols']\n",
    "    train.drop(col_to_drop,axis=1,inplace=True)\n",
    "    validation.drop(col_to_drop,axis=1,inplace=True)\n",
    "        \n",
    "    bg_clf.fit(train,y_1)\n",
    "    pi = baggingtree_profit_importance(bg_clf,validation,df_valid['next_period_return'])\n",
    "\n",
    "    pred_valid = bg_clf.predict(validation)\n",
    "        \n",
    "    print((pred_valid * df_valid['next_period_return']).sum())\n",
    "    profits.append((pred_valid * df_valid['next_period_return']).sum())\n",
    "    feat.append(train.columns)"
   ]
  },
  {
   "cell_type": "code",
   "execution_count": 40,
   "metadata": {},
   "outputs": [
    {
     "data": {
      "image/png": "[encoded data removed]",
      "text/plain": [
       "<Figure size 432x288 with 1 Axes>"
      ]
     },
     "metadata": {
      "needs_background": "light"
     },
     "output_type": "display_data"
    }
   ],
   "source": [
    "plt.plot(profits);"
   ]
  },
  {
   "cell_type": "code",
   "execution_count": 41,
   "metadata": {},
   "outputs": [],
   "source": [
    "n = np.argmax(profits)\n",
    "optim_feats = feat[n]\n",
    "max_profits = profits[n]"
   ]
  },
  {
   "cell_type": "code",
   "execution_count": 42,
   "metadata": {},
   "outputs": [
    {
     "name": "stdout",
     "output_type": "stream",
     "text": [
      "352.34586\n",
      "Index(['teqq', 'prccq', 'oancfy', 'ocf_lctq', 'ibcq', 'epsfxq', 'ltq',\n",
      "       'pretret_earnatq', 'dvy', 'opmbdq', 'dvq', 'ibq', 'oepsxy',\n",
      "       'debt_assetsq', 'dvpspq', 'curr_ratioq', 'debt_ebitdaq', 'pcfq',\n",
      "       'capxq', 'opepsq', 'apq'],\n",
      "      dtype='object')\n"
     ]
    }
   ],
   "source": [
    "print(max_profits)\n",
    "print(optim_feats)"
   ]
  },
  {
   "cell_type": "code",
   "execution_count": 43,
   "metadata": {},
   "outputs": [
    {
     "name": "stdout",
     "output_type": "stream",
     "text": [
      "The score of training is 0.413339976334309\n",
      "The score of validation is 0.37339055793991416\n"
     ]
    },
    {
     "data": {
      "text/plain": [
       "352.34586"
      ]
     },
     "execution_count": 43,
     "metadata": {},
     "output_type": "execute_result"
    }
   ],
   "source": [
    "train_1_optim = train_1[optim_feats]\n",
    "valid_optim = valid[optim_feats]\n",
    "\n",
    "bg_clf.fit(train_1_optim,y_1)\n",
    "print(\"The score of training is\", bg_clf.score(train_1_optim,y_1))\n",
    "\n",
    "pred_valid_tree = bg_clf.predict(valid_optim)\n",
    "print(\"The score of validation is\", bg_clf.score(valid_optim,y_valid))\n",
    "\n",
    "(pred_valid_tree * valid_stock_returns).sum()"
   ]
  },
  {
   "cell_type": "code",
   "execution_count": 44,
   "metadata": {},
   "outputs": [],
   "source": [
    "from scipy.cluster import hierarchy as hc\n",
    "import scipy.stats"
   ]
  },
  {
   "cell_type": "code",
   "execution_count": 45,
   "metadata": {},
   "outputs": [
    {
     "data": {
      "image/png": "[encoded data removed]",
      "text/plain": [
       "<Figure size 1152x720 with 1 Axes>"
      ]
     },
     "metadata": {
      "needs_background": "light"
     },
     "output_type": "display_data"
    }
   ],
   "source": [
    "corr = np.round(scipy.stats.spearmanr(train_1_optim).correlation,4)\n",
    "corr_condensed = hc.distance.squareform(1-corr)\n",
    "z = hc.linkage(corr_condensed, method='average')\n",
    "fig = plt.figure(figsize=(16,10))\n",
    "dendrogram = hc.dendrogram(z, labels=train_1_optim.columns, orientation='left', leaf_font_size=16)\n",
    "plt.show()\n",
    "# x=0: strongly correlated"
   ]
  },
  {
   "cell_type": "markdown",
   "metadata": {},
   "source": [
    "### Backtest the performance of the model with the optimal features over the period 2010-01-01 to 2018-12-31    \n",
    "There are #(5*4 + 3 = 23) training frames in total"
   ]
  },
  {
   "cell_type": "code",
   "execution_count": 46,
   "metadata": {},
   "outputs": [],
   "source": [
    "# backtest\n",
    "start_dates = [pd.to_datetime('2010-01-01') + pd.DateOffset(months = 3 * i) for i in range(23)]\n",
    "end_dates = [d + pd.DateOffset(months = 36) for d in start_dates]"
   ]
  },
  {
   "cell_type": "code",
   "execution_count": 47,
   "metadata": {},
   "outputs": [],
   "source": [
    "training_frames = [data.loc[d:d+pd.DateOffset(months = 36)] for d in start_dates]\n",
    "test_frames = [data.loc[d + pd.DateOffset(months=3):d+pd.DateOffset(months = 6)] for d in end_dates]"
   ]
  },
  {
   "cell_type": "code",
   "execution_count": 48,
   "metadata": {},
   "outputs": [],
   "source": [
    "training_data = [d.reset_index().drop\n",
    "                                 (['ticker','date',\n",
    "                                   'next_period_return',\n",
    "                                   'spy_next_period_return',\n",
    "                                   'rel_performance','pred_rel_return',\n",
    "                                  'return', 'cum_ret', 'spy_cum_ret'],axis=1) for d in training_frames]"
   ]
  },
  {
   "cell_type": "code",
   "execution_count": 49,
   "metadata": {},
   "outputs": [],
   "source": [
    "test_data = [d.reset_index().drop(['ticker','date',\n",
    "                                   'next_period_return',\n",
    "                                   'spy_next_period_return',\n",
    "                                   'rel_performance','pred_rel_return',\n",
    "                                  'return', 'cum_ret', 'spy_cum_ret'],axis=1) for d in test_frames]"
   ]
  },
  {
   "cell_type": "code",
   "execution_count": 50,
   "metadata": {},
   "outputs": [],
   "source": [
    "training_labels = [d['rel_performance'].values for d in training_frames]"
   ]
  },
  {
   "cell_type": "code",
   "execution_count": 51,
   "metadata": {},
   "outputs": [],
   "source": [
    "opt_training_data = [t[optim_feats] for t in training_data]\n",
    "opt_test_data = [v[optim_feats] for v in test_data]"
   ]
  },
  {
   "cell_type": "code",
   "execution_count": 52,
   "metadata": {},
   "outputs": [],
   "source": [
    "P_L = []\n",
    "x = [1]\n",
    "ret = []\n",
    "\n",
    "for i in range(len(training_labels)):\n",
    "    bg_clf.fit(opt_training_data[i],training_labels[i])\n",
    "    pred_i = bg_clf.predict(opt_test_data[i])\n",
    "    profit_i = (pred_i * test_frames[i]['next_period_return']).sum()\n",
    "    P_L.append(profit_i)\n",
    "    num_positions = len(pred_i)\n",
    "    ret.append((1.0/num_positions) * profit_i)\n",
    "    x.append(x[i] + (x[i]/num_positions) * profit_i)\n"
   ]
  },
  {
   "cell_type": "code",
   "execution_count": 53,
   "metadata": {},
   "outputs": [
    {
     "data": {
      "image/png": "[encoded data removed]",
      "text/plain": [
       "<Figure size 432x288 with 1 Axes>"
      ]
     },
     "metadata": {
      "needs_background": "light"
     },
     "output_type": "display_data"
    }
   ],
   "source": [
    "plt.plot(x);"
   ]
  },
  {
   "cell_type": "code",
   "execution_count": 54,
   "metadata": {},
   "outputs": [],
   "source": [
    "SPY = pd.read_pickle(r'..\\HW1_Decision Tree\\SPY_cum_ret.pkl')\n",
    "SPY = SPY.loc['2013-01-01':]\n",
    "SPY = SPY.resample('Q').ffill()\n",
    "SPY['spy_cum_ret'] = (SPY['spy_cum_ret'] - SPY['spy_cum_ret'][0] + 1)\n",
    "SPY['strategy'] = x"
   ]
  },
  {
   "cell_type": "code",
   "execution_count": 55,
   "metadata": {
    "scrolled": true
   },
   "outputs": [
    {
     "data": {
      "image/png": "[encoded data removed]",
      "text/plain": [
       "<Figure size 432x288 with 1 Axes>"
      ]
     },
     "metadata": {
      "needs_background": "light"
     },
     "output_type": "display_data"
    }
   ],
   "source": [
    "SPY.plot();"
   ]
  },
  {
   "cell_type": "code",
   "execution_count": 56,
   "metadata": {},
   "outputs": [],
   "source": [
    "SPY = SPY.resample('Y').ffill()"
   ]
  },
  {
   "cell_type": "code",
   "execution_count": 57,
   "metadata": {},
   "outputs": [
    {
     "data": {
      "image/png": "[encoded data removed]",
      "text/plain": [
       "<Figure size 432x288 with 1 Axes>"
      ]
     },
     "metadata": {
      "needs_background": "light"
     },
     "output_type": "display_data"
    }
   ],
   "source": [
    "SPY.plot();"
   ]
  },
  {
   "cell_type": "code",
   "execution_count": 58,
   "metadata": {},
   "outputs": [
    {
     "name": "stdout",
     "output_type": "stream",
     "text": [
      "Strategy Sharpe Ratio:  0.31758003026309617\n"
     ]
    }
   ],
   "source": [
    "strategy_mean_ret = (SPY['strategy'] - 1).diff().mean()\n",
    "strategy_std = (SPY['strategy'] - 1).diff().std()\n",
    "strategy_sr = strategy_mean_ret/strategy_std\n",
    "print('Strategy Sharpe Ratio: ',strategy_sr)"
   ]
  },
  {
   "cell_type": "code",
   "execution_count": 59,
   "metadata": {},
   "outputs": [
    {
     "name": "stdout",
     "output_type": "stream",
     "text": [
      "SP Sharpe Ratio:  0.9675171990497208\n"
     ]
    }
   ],
   "source": [
    "(SPY['spy_cum_ret'] - 1).diff().mean()\n",
    "(SPY['spy_cum_ret'] - 1).diff().std()\n",
    "print('SP Sharpe Ratio: ',(SPY['spy_cum_ret'] - 1).diff().mean()/(SPY['spy_cum_ret'] - 1).diff().std())"
   ]
  },
  {
   "cell_type": "code",
   "execution_count": 60,
   "metadata": {},
   "outputs": [
    {
     "data": {
      "text/plain": [
       "1.5404066125901832"
      ]
     },
     "execution_count": 60,
     "metadata": {},
     "output_type": "execute_result"
    }
   ],
   "source": [
    "x[-1]"
   ]
  },
  {
   "cell_type": "code",
   "execution_count": 61,
   "metadata": {},
   "outputs": [
    {
     "data": {
      "text/plain": [
       "1.6303419999999993"
      ]
     },
     "execution_count": 61,
     "metadata": {},
     "output_type": "execute_result"
    }
   ],
   "source": [
    "SPY['spy_cum_ret'][-1]"
   ]
  },
  {
   "cell_type": "code",
   "execution_count": 62,
   "metadata": {},
   "outputs": [
    {
     "data": {
      "text/plain": [
       "1.728770808690456"
      ]
     },
     "execution_count": 62,
     "metadata": {},
     "output_type": "execute_result"
    }
   ],
   "source": [
    "strategy_ret = (SPY['strategy'] - 1).diff().values[1:]\n",
    "spy_ret = (SPY['spy_cum_ret'] - 1).diff().values[1:]\n",
    "\n",
    "beta = (np.cov(spy_ret,strategy_ret)/np.var(spy_ret))[1,0]\n",
    "beta"
   ]
  },
  {
   "cell_type": "code",
   "execution_count": 63,
   "metadata": {},
   "outputs": [
    {
     "data": {
      "text/plain": [
       "-2.429339240630837"
      ]
     },
     "execution_count": 63,
     "metadata": {},
     "output_type": "execute_result"
    }
   ],
   "source": [
    "residual_ret = strategy_ret - beta * spy_ret\n",
    "IR = np.mean(residual_ret)/np.std(residual_ret)\n",
    "IR"
   ]
  },
  {
   "cell_type": "code",
   "execution_count": 64,
   "metadata": {},
   "outputs": [
    {
     "data": {
      "text/plain": [
       "-0.11156943412831058"
      ]
     },
     "execution_count": 64,
     "metadata": {},
     "output_type": "execute_result"
    }
   ],
   "source": [
    "alpha = np.mean(residual_ret)\n",
    "alpha"
   ]
  },
  {
   "cell_type": "markdown",
   "metadata": {},
   "source": [
    "## Results\n",
    "- The score of validation is 0.3734\n",
    "- Sharpe ratio for the strategy is 0.3176\n",
    "- Sharpe ratio for SPY is 0.9675\n",
    "- Information ratio for the strategy is -2.4293\n",
    "- Alpha for the strategy is -0.1116"
   ]
  },
  {
   "cell_type": "code",
   "execution_count": null,
   "metadata": {},
   "outputs": [],
   "source": []
  }
 ],
 "metadata": {
  "kernelspec": {
   "display_name": "Python 3",
   "language": "python",
   "name": "python3"
  },
  "language_info": {
   "codemirror_mode": {
    "name": "ipython",
    "version": 3
   },
   "file_extension": ".py",
   "mimetype": "text/x-python",
   "name": "python",
   "nbconvert_exporter": "python",
   "pygments_lexer": "ipython3",
   "version": "3.7.1"
  },
  "latex_envs": {
   "LaTeX_envs_menu_present": true,
   "autoclose": false,
   "autocomplete": true,
   "bibliofile": "biblio.bib",
   "cite_by": "apalike",
   "current_citInitial": 1,
   "eqLabelWithNumbers": true,
   "eqNumInitial": 1,
   "hotkeys": {
    "equation": "Ctrl-E",
    "itemize": "Ctrl-I"
   },
   "labels_anchors": false,
   "latex_user_defs": false,
   "report_style_numbering": false,
   "user_envs_cfg": false
  }
 },
 "nbformat": 4,
 "nbformat_minor": 2
}
