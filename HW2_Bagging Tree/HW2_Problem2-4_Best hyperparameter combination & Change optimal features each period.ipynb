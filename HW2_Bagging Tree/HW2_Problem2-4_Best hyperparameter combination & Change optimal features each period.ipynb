{
 "cells": [
  {
   "cell_type": "code",
   "execution_count": 8,
   "metadata": {
    "colab": {
     "base_uri": "https://localhost:8080/",
     "height": 35
    },
    "colab_type": "code",
    "executionInfo": {
     "elapsed": 2894,
     "status": "ok",
     "timestamp": 1581310885683,
     "user": {
      "displayName": "莎娜shana",
      "photoUrl": "",
      "userId": "06539486535699047543"
     },
     "user_tz": 360
    },
    "id": "1oxmKxpJW2sQ",
    "outputId": "a331f431-198f-4fdc-e67f-652a2f004e4a"
   },
   "outputs": [
    {
     "name": "stdout",
     "output_type": "stream",
     "text": [
      "Drive already mounted at /content/drive; to attempt to forcibly remount, call drive.mount(\"/content/drive\", force_remount=True).\n"
     ]
    }
   ],
   "source": [
    "from google.colab import drive\n",
    "drive.mount('/content/drive')"
   ]
  },
  {
   "cell_type": "markdown",
   "metadata": {
    "colab_type": "text",
    "id": "ujydeM0BW0BW"
   },
   "source": [
    "## Bagging Classifier (from Decision Tree)\n",
    "\n",
    "This time, different from the Problem 1, I am not going to perform a Grid Search on the parameters. Because according to Problem 1, the grid search method takes a lot of time to run while the final performance has no big difference with the previous three tests. Therefore, for Problem 2 here, I will just use the best combination result from the previous tests. \n",
    "\n",
    "From the previous three combinations, we get two best performing hyperparameter combinations which have the same scores of validation (about 0.3734). Thus I only take the first one, which is:\n",
    "- `max_depth` = 8\n",
    "- `n_estimators` = 40\n",
    "\n",
    "Then, use this best performing hyperparameter combination to train the model and predict the outcome.\n",
    "\n",
    "Note that in this model we change the optimal features for each period. "
   ]
  },
  {
   "cell_type": "markdown",
   "metadata": {
    "colab_type": "text",
    "id": "oRhHGW8cW0Be"
   },
   "source": [
    "## Table of Content"
   ]
  },
  {
   "cell_type": "markdown",
   "metadata": {
    "colab_type": "text",
    "id": "Xlswt-uoW0Bi"
   },
   "source": [
    "<div id=\"toc\"></div>"
   ]
  },
  {
   "cell_type": "code",
   "execution_count": 1,
   "metadata": {
    "colab": {
     "base_uri": "https://localhost:8080/",
     "height": 17
    },
    "colab_type": "code",
    "executionInfo": {
     "elapsed": 3187,
     "status": "ok",
     "timestamp": 1581310886001,
     "user": {
      "displayName": "莎娜shana",
      "photoUrl": "",
      "userId": "06539486535699047543"
     },
     "user_tz": 360
    },
    "id": "Wg37pa_LW0Bl",
    "outputId": "bb48da50-1e7a-4772-82aa-81457494eb35"
   },
   "outputs": [
    {
     "data": {
      "application/javascript": [
       "$.getScript('https://kmahelona.github.io/ipython_notebook_goodies/ipython_notebook_toc.js')\n"
      ],
      "text/plain": [
       "<IPython.core.display.Javascript object>"
      ]
     },
     "metadata": {},
     "output_type": "display_data"
    }
   ],
   "source": [
    "%%javascript\n",
    "$.getScript('https://kmahelona.github.io/ipython_notebook_goodies/ipython_notebook_toc.js')"
   ]
  },
  {
   "cell_type": "code",
   "execution_count": 0,
   "metadata": {
    "colab": {},
    "colab_type": "code",
    "id": "aouYb12QW0Bz"
   },
   "outputs": [],
   "source": [
    "import pandas as pd\n",
    "import numpy as np\n",
    "import matplotlib.pyplot as plt\n",
    "%matplotlib inline\n",
    "\n",
    "from sklearn.metrics import accuracy_score, confusion_matrix\n",
    "from sklearn.tree import DecisionTreeClassifier\n",
    "from sklearn.ensemble import BaggingClassifier\n",
    "\n",
    "pd.set_option('use_inf_as_na', True)\n",
    "from collections import Counter"
   ]
  },
  {
   "cell_type": "code",
   "execution_count": 0,
   "metadata": {
    "colab": {},
    "colab_type": "code",
    "id": "eqTvRG7tW0B9"
   },
   "outputs": [],
   "source": [
    "#raw_data = pd.read_pickle(r'..\\HW1_Decision Tree\\dataset.pkl')\n",
    "raw_data = pd.read_pickle('drive/My Drive/ML in Finance/dataset.pkl')"
   ]
  },
  {
   "cell_type": "code",
   "execution_count": 0,
   "metadata": {
    "colab": {},
    "colab_type": "code",
    "id": "l1dDT2lwW0CI"
   },
   "outputs": [],
   "source": [
    "data = raw_data[raw_data['market_cap'] > 1000.0]"
   ]
  },
  {
   "cell_type": "code",
   "execution_count": 13,
   "metadata": {
    "colab": {
     "base_uri": "https://localhost:8080/",
     "height": 104
    },
    "colab_type": "code",
    "executionInfo": {
     "elapsed": 11868,
     "status": "ok",
     "timestamp": 1581310894741,
     "user": {
      "displayName": "莎娜shana",
      "photoUrl": "",
      "userId": "06539486535699047543"
     },
     "user_tz": 360
    },
    "id": "PufTl7I2W0CV",
    "outputId": "c9f53258-fc8f-495c-a204-5302e084d436"
   },
   "outputs": [
    {
     "name": "stderr",
     "output_type": "stream",
     "text": [
      "/usr/local/lib/python3.6/dist-packages/pandas/core/frame.py:4259: SettingWithCopyWarning: \n",
      "A value is trying to be set on a copy of a slice from a DataFrame\n",
      "\n",
      "See the caveats in the documentation: http://pandas.pydata.org/pandas-docs/stable/user_guide/indexing.html#returning-a-view-versus-a-copy\n",
      "  **kwargs\n"
     ]
    }
   ],
   "source": [
    "data.fillna(0.0,inplace=True)"
   ]
  },
  {
   "cell_type": "markdown",
   "metadata": {
    "colab_type": "text",
    "id": "4ECBDOfAW0Cl"
   },
   "source": [
    "### Insert a column in the data set with entries: (1) 2 if the stock return is more then 5% higher than the SPY return; (2) 1 if it is more than 1% but less than 5% higher; (3) 0 if it is between -1% and 1%; (4) -2 if the stock underperforms the SPY by more than -5%; (5) -1 if the performance is between -1% and -5%"
   ]
  },
  {
   "cell_type": "code",
   "execution_count": 0,
   "metadata": {
    "colab": {},
    "colab_type": "code",
    "id": "r6v8LaZRW0Cq"
   },
   "outputs": [],
   "source": [
    "def f(x):\n",
    "    if x > 0.05:\n",
    "        return 2\n",
    "    elif x >0.01 and x<= 0.05:\n",
    "        return 1\n",
    "    elif x > -0.01 and x<= 0.01:\n",
    "        return 0\n",
    "    elif x > -0.05 and x<= -0.01:\n",
    "        return -1\n",
    "    else:\n",
    "        return -2"
   ]
  },
  {
   "cell_type": "code",
   "execution_count": 15,
   "metadata": {
    "colab": {
     "base_uri": "https://localhost:8080/",
     "height": 121
    },
    "colab_type": "code",
    "executionInfo": {
     "elapsed": 11841,
     "status": "ok",
     "timestamp": 1581310894746,
     "user": {
      "displayName": "莎娜shana",
      "photoUrl": "",
      "userId": "06539486535699047543"
     },
     "user_tz": 360
    },
    "id": "lI0Mz7GXW0Cy",
    "outputId": "917efa2a-0073-4830-a472-69259fe69a5b"
   },
   "outputs": [
    {
     "name": "stderr",
     "output_type": "stream",
     "text": [
      "/usr/local/lib/python3.6/dist-packages/ipykernel_launcher.py:1: SettingWithCopyWarning: \n",
      "A value is trying to be set on a copy of a slice from a DataFrame.\n",
      "Try using .loc[row_indexer,col_indexer] = value instead\n",
      "\n",
      "See the caveats in the documentation: http://pandas.pydata.org/pandas-docs/stable/user_guide/indexing.html#returning-a-view-versus-a-copy\n",
      "  \"\"\"Entry point for launching an IPython kernel.\n"
     ]
    }
   ],
   "source": [
    "data['rel_performance'] = data['pred_rel_return'].apply(f)"
   ]
  },
  {
   "cell_type": "code",
   "execution_count": 0,
   "metadata": {
    "colab": {},
    "colab_type": "code",
    "id": "Px-bzS5FW0C6"
   },
   "outputs": [],
   "source": [
    "data.reset_index(inplace=True,)\n",
    "data.set_index('date',inplace=True)"
   ]
  },
  {
   "cell_type": "markdown",
   "metadata": {
    "colab_type": "text",
    "id": "3-ffTfnuW0DE"
   },
   "source": [
    "### Use the period 2007-04-30 to 2010-04-30 to train the model"
   ]
  },
  {
   "cell_type": "code",
   "execution_count": 0,
   "metadata": {
    "colab": {},
    "colab_type": "code",
    "id": "EWuoMKROW0DL"
   },
   "outputs": [],
   "source": [
    "df_1 = data.loc['2007-04-30':'2010-04-30']"
   ]
  },
  {
   "cell_type": "markdown",
   "metadata": {
    "colab_type": "text",
    "id": "2FBtmuy8W0DV"
   },
   "source": [
    "### Use the period 2010-07-31 to 2010-10-31 to find the optimal features"
   ]
  },
  {
   "cell_type": "code",
   "execution_count": 0,
   "metadata": {
    "colab": {},
    "colab_type": "code",
    "id": "4bC95tIqW0DZ"
   },
   "outputs": [],
   "source": [
    "df_valid = data.loc['2010-07-31':'2010-10-31']"
   ]
  },
  {
   "cell_type": "code",
   "execution_count": 0,
   "metadata": {
    "colab": {},
    "colab_type": "code",
    "id": "2YxtnoP3W0Dj"
   },
   "outputs": [],
   "source": [
    "train_1 = df_1.reset_index().drop(['ticker','date',\n",
    "                                   'next_period_return',\n",
    "                                   'spy_next_period_return',\n",
    "                                   'rel_performance','pred_rel_return',\n",
    "                                  'return', 'cum_ret', 'spy_cum_ret'],axis=1)\n",
    "\n",
    "valid = df_valid.reset_index().drop(['ticker','date',\n",
    "                                   'next_period_return',\n",
    "                                   'spy_next_period_return',\n",
    "                                   'rel_performance','pred_rel_return',\n",
    "                                  'return', 'cum_ret', 'spy_cum_ret'],axis=1)"
   ]
  },
  {
   "cell_type": "code",
   "execution_count": 0,
   "metadata": {
    "colab": {},
    "colab_type": "code",
    "id": "hdmZqRfNW0Dq"
   },
   "outputs": [],
   "source": [
    "train_1_stock_returns = df_1['next_period_return']\n",
    "valid_stock_returns = df_valid['next_period_return']"
   ]
  },
  {
   "cell_type": "code",
   "execution_count": 0,
   "metadata": {
    "colab": {},
    "colab_type": "code",
    "id": "-c0agPiKW0Dx"
   },
   "outputs": [],
   "source": [
    "y_1 = df_1['rel_performance']\n",
    "y_valid = df_valid['rel_performance']"
   ]
  },
  {
   "cell_type": "code",
   "execution_count": 0,
   "metadata": {
    "colab": {},
    "colab_type": "code",
    "id": "4qJhQVRSW0D5"
   },
   "outputs": [],
   "source": [
    "y_1 = y_1.values\n",
    "y_valid = y_valid.values"
   ]
  },
  {
   "cell_type": "markdown",
   "metadata": {
    "colab_type": "text",
    "id": "gK90PFU9W0EF"
   },
   "source": [
    "### Set the best performing hyperparameter combination that gives the highest validation score"
   ]
  },
  {
   "cell_type": "code",
   "execution_count": 0,
   "metadata": {
    "colab": {},
    "colab_type": "code",
    "id": "TO3nqVT-W0EU"
   },
   "outputs": [],
   "source": [
    "best_depth = 8\n",
    "best_n = 40"
   ]
  },
  {
   "cell_type": "markdown",
   "metadata": {
    "colab_type": "text",
    "id": "wJVqGR4_W0Ee"
   },
   "source": [
    "### Use the best hyperparameter combination to train the model and predict the outcome"
   ]
  },
  {
   "cell_type": "code",
   "execution_count": 0,
   "metadata": {
    "colab": {},
    "colab_type": "code",
    "id": "Kh_zbUeJW0Eh"
   },
   "outputs": [],
   "source": [
    "t_clf = DecisionTreeClassifier(min_samples_leaf=1800, max_depth=best_depth)"
   ]
  },
  {
   "cell_type": "code",
   "execution_count": 0,
   "metadata": {
    "colab": {},
    "colab_type": "code",
    "id": "f8GsoE9cW0Eo"
   },
   "outputs": [],
   "source": [
    "bg_clf = BaggingClassifier(t_clf, n_estimators=best_n, random_state=123, n_jobs=1)"
   ]
  },
  {
   "cell_type": "code",
   "execution_count": 0,
   "metadata": {
    "colab": {},
    "colab_type": "code",
    "id": "1vsEz2u4W0E3"
   },
   "outputs": [],
   "source": [
    "def bagging_feat_importance(m, df):\n",
    "    feature_importances = []\n",
    "    for est in m.estimators_:\n",
    "        fi = est.feature_importances_\n",
    "        feature_importances.append(fi)\n",
    "    feature_importances = np.array(feature_importances)\n",
    "    print(\"feature_importances.shape: \", feature_importances.shape)\n",
    "        \n",
    "    return pd.DataFrame({'cols':df.columns, 'feat_imp':np.mean(feature_importances,axis=0)}\n",
    "                       ).sort_values('feat_imp', ascending=False)"
   ]
  },
  {
   "cell_type": "code",
   "execution_count": 0,
   "metadata": {
    "colab": {},
    "colab_type": "code",
    "id": "lUqVJY3rW0FA"
   },
   "outputs": [],
   "source": [
    "def profit_importance(m,df,rets):\n",
    "#     np.random.seed(123)\n",
    "    profit = []\n",
    "    for col in df.columns:\n",
    "        prof = []\n",
    "        for _ in range(10):\n",
    "            X = df.copy()\n",
    "            X[col] = np.random.permutation(df[col].values)\n",
    "            prediction = m.predict(X)\n",
    "            prof.append((prediction * rets).sum())\n",
    "        profit.append(np.mean(prof))\n",
    "    return profit"
   ]
  },
  {
   "cell_type": "code",
   "execution_count": 0,
   "metadata": {
    "colab": {},
    "colab_type": "code",
    "id": "Wz67h6ZYW0FK"
   },
   "outputs": [],
   "source": [
    "def bagging_profit_importance(m, df,rets):\n",
    "    return pd.DataFrame({'cols':df.columns, 'pi_imp':profit_importance(m,df,rets)}\n",
    "                       ).sort_values('pi_imp', ascending=True)"
   ]
  },
  {
   "cell_type": "markdown",
   "metadata": {
    "colab_type": "text",
    "id": "eIIDDrkEW0FO"
   },
   "source": [
    "#### Backtest the performance of the model over the period 2010-01-01 to 2018-12-31    \n",
    "There are #(5*4 + 3 = 23) training frames in total"
   ]
  },
  {
   "cell_type": "code",
   "execution_count": 0,
   "metadata": {
    "colab": {},
    "colab_type": "code",
    "id": "V5JqkiJmW0FQ"
   },
   "outputs": [],
   "source": [
    "# backtest\n",
    "start_dates = [pd.to_datetime('2010-01-01') + pd.DateOffset(months = 3 * i) for i in range(22)]\n",
    "end_dates = [d + pd.DateOffset(months = 36) for d in start_dates]"
   ]
  },
  {
   "cell_type": "code",
   "execution_count": 0,
   "metadata": {
    "colab": {},
    "colab_type": "code",
    "id": "uK1YE-EZW0FU"
   },
   "outputs": [],
   "source": [
    "training_frames = [data.loc[d:d+pd.DateOffset(months = 36)] for d in start_dates]\n",
    "test_frames = [data.loc[d + pd.DateOffset(months=3):d+pd.DateOffset(months = 6)] for d in end_dates]"
   ]
  },
  {
   "cell_type": "code",
   "execution_count": 0,
   "metadata": {
    "colab": {},
    "colab_type": "code",
    "id": "LjWg9CklW0Fa"
   },
   "outputs": [],
   "source": [
    "training_data = [d.reset_index().drop\n",
    "                                 (['ticker','date',\n",
    "                                   'next_period_return',\n",
    "                                   'spy_next_period_return',\n",
    "                                   'rel_performance','pred_rel_return',\n",
    "                                  'return', 'cum_ret', 'spy_cum_ret'],axis=1) for d in training_frames]\n",
    "\n",
    "test_data = [d.reset_index().drop(['ticker','date',\n",
    "                                   'next_period_return',\n",
    "                                   'spy_next_period_return',\n",
    "                                   'rel_performance','pred_rel_return',\n",
    "                                  'return', 'cum_ret', 'spy_cum_ret'],axis=1) for d in test_frames]\n",
    "\n",
    "training_labels = [d['rel_performance'].values for d in training_frames]\n",
    "validation_labels = [d['rel_performance'].values for d in test_frames]"
   ]
  },
  {
   "cell_type": "markdown",
   "metadata": {
    "colab_type": "text",
    "id": "JYR7OohSW0Fj"
   },
   "source": [
    "#### Change the optimal features each period"
   ]
  },
  {
   "cell_type": "code",
   "execution_count": 35,
   "metadata": {
    "colab": {
     "base_uri": "https://localhost:8080/",
     "height": 780
    },
    "colab_type": "code",
    "executionInfo": {
     "elapsed": 2553946,
     "status": "ok",
     "timestamp": 1581313862990,
     "user": {
      "displayName": "莎娜shana",
      "photoUrl": "",
      "userId": "06539486535699047543"
     },
     "user_tz": 360
    },
    "id": "CX6hUaSxW0Fl",
    "outputId": "4abae31b-4a80-427c-bc44-ec141470a567"
   },
   "outputs": [
    {
     "name": "stdout",
     "output_type": "stream",
     "text": [
      "0\n",
      "feature_importances.shape:  (40, 725)\n",
      "1\n",
      "feature_importances.shape:  (40, 725)\n",
      "2\n",
      "feature_importances.shape:  (40, 725)\n",
      "3\n",
      "feature_importances.shape:  (40, 725)\n",
      "4\n",
      "feature_importances.shape:  (40, 725)\n",
      "5\n",
      "feature_importances.shape:  (40, 725)\n",
      "6\n",
      "feature_importances.shape:  (40, 725)\n",
      "7\n",
      "feature_importances.shape:  (40, 725)\n",
      "8\n",
      "feature_importances.shape:  (40, 725)\n",
      "9\n",
      "feature_importances.shape:  (40, 725)\n",
      "10\n",
      "feature_importances.shape:  (40, 725)\n",
      "11\n",
      "feature_importances.shape:  (40, 725)\n",
      "12\n",
      "feature_importances.shape:  (40, 725)\n",
      "13\n",
      "feature_importances.shape:  (40, 725)\n",
      "14\n",
      "feature_importances.shape:  (40, 725)\n",
      "15\n",
      "feature_importances.shape:  (40, 725)\n",
      "16\n",
      "feature_importances.shape:  (40, 725)\n",
      "17\n",
      "feature_importances.shape:  (40, 725)\n",
      "18\n",
      "feature_importances.shape:  (40, 725)\n",
      "19\n",
      "feature_importances.shape:  (40, 725)\n",
      "20\n",
      "feature_importances.shape:  (40, 725)\n",
      "21\n",
      "feature_importances.shape:  (40, 725)\n"
     ]
    }
   ],
   "source": [
    "optimal_features = []\n",
    "\n",
    "for i in range(len(training_data)):\n",
    "    print(i)\n",
    "    profits = []\n",
    "    feat=[]\n",
    "\n",
    "    bg_clf.fit(training_data[i],training_labels[i])\n",
    "    fi = bagging_feat_importance(bg_clf,training_data[i])\n",
    "    features = fi[fi['feat_imp'] > 0.005]\n",
    "    \n",
    "    train = training_data[i][features['cols'].values].copy()\n",
    "    validation = test_data[i][features['cols'].values].copy()\n",
    "    \n",
    "    \n",
    "    profits = []\n",
    "    feat=[]\n",
    "    \n",
    "    bg_clf.fit(train,training_labels[i])\n",
    "    \n",
    "    while len(train.columns)>1:\n",
    "        \n",
    "        pi = bagging_profit_importance(bg_clf,validation,test_frames[i]['next_period_return'])\n",
    "\n",
    "        col_to_drop = pi.iloc[-1]['cols']\n",
    "        train.drop(col_to_drop,axis=1,inplace=True)\n",
    "        validation.drop(col_to_drop,axis=1,inplace=True)\n",
    "        \n",
    "        bg_clf.fit(train,training_labels[i])\n",
    "        pred_valid = bg_clf.predict(validation)\n",
    "        profits.append((pred_valid * test_frames[i]['next_period_return']).sum())\n",
    "        feat.append(train.columns)\n",
    "        \n",
    "    n = np.argmax(profits)\n",
    "\n",
    "    max_profits = profits[n]\n",
    "\n",
    "    optim_feats = feat[n]\n",
    "\n",
    "    optimal_features.append(optim_feats)"
   ]
  },
  {
   "cell_type": "code",
   "execution_count": 0,
   "metadata": {
    "colab": {},
    "colab_type": "code",
    "id": "OtNSW6bfW0Fo"
   },
   "outputs": [],
   "source": [
    "P_L = []\n",
    "x = [0,1]\n",
    "ret = []\n",
    "\n",
    "for i in range(1,len(optimal_features)-1):\n",
    "\n",
    "        bg_clf.fit(training_data[i][optimal_features[i-1]],training_labels[i])\n",
    "        pred_i = bg_clf.predict(test_data[i][optimal_features[i-1]])\n",
    "        profit_i = (pred_i * test_frames[i]['next_period_return']).sum()\n",
    "        P_L.append(profit_i)\n",
    "        num_positions = len(pred_i)\n",
    "        ret.append((1.0/num_positions) * profit_i)\n",
    "        x.append(x[i] + (x[i]/num_positions) * profit_i)\n"
   ]
  },
  {
   "cell_type": "code",
   "execution_count": 37,
   "metadata": {
    "colab": {
     "base_uri": "https://localhost:8080/",
     "height": 283
    },
    "colab_type": "code",
    "executionInfo": {
     "elapsed": 2572647,
     "status": "ok",
     "timestamp": 1581313883572,
     "user": {
      "displayName": "莎娜shana",
      "photoUrl": "",
      "userId": "06539486535699047543"
     },
     "user_tz": 360
    },
    "id": "PMj01u4GW0Fs",
    "outputId": "8bd78443-633d-47c7-eb59-0f3e00f318dc"
   },
   "outputs": [
    {
     "data": {
      "text/plain": [
       "[<matplotlib.lines.Line2D at 0x7f55a6ce3390>]"
      ]
     },
     "execution_count": 37,
     "metadata": {
      "tags": []
     },
     "output_type": "execute_result"
    },
    {
     "data": {
      "image/png": "[encoded data removed]",
      "text/plain": [
       "<Figure size 432x288 with 1 Axes>"
      ]
     },
     "metadata": {
      "tags": []
     },
     "output_type": "display_data"
    }
   ],
   "source": [
    "plt.plot(P_L)"
   ]
  },
  {
   "cell_type": "code",
   "execution_count": 38,
   "metadata": {
    "colab": {
     "base_uri": "https://localhost:8080/",
     "height": 265
    },
    "colab_type": "code",
    "executionInfo": {
     "elapsed": 2571017,
     "status": "ok",
     "timestamp": 1581313883860,
     "user": {
      "displayName": "莎娜shana",
      "photoUrl": "",
      "userId": "06539486535699047543"
     },
     "user_tz": 360
    },
    "id": "njjmTA4qW0Fv",
    "outputId": "17dd1986-17f7-42c0-c43c-27fd4260afbe"
   },
   "outputs": [
    {
     "data": {
      "image/png": "[encoded data removed]",
      "text/plain": [
       "<Figure size 432x288 with 1 Axes>"
      ]
     },
     "metadata": {
      "tags": []
     },
     "output_type": "display_data"
    }
   ],
   "source": [
    "plt.plot(x[1:]);"
   ]
  },
  {
   "cell_type": "code",
   "execution_count": 0,
   "metadata": {
    "colab": {},
    "colab_type": "code",
    "id": "eK8-qBUsW0F0"
   },
   "outputs": [],
   "source": [
    "#SPY = pd.read_pickle(r'..\\HW1_Decision Tree\\SPY_cum_ret.pkl')\n",
    "SPY = pd.read_pickle('drive/My Drive/ML in Finance/SPY_cum_ret.pkl') \n",
    "SPY = SPY.loc['2013-10-01':]\n",
    "SPY = SPY.resample('Q').ffill()\n",
    "SPY['spy_cum_ret'] = (SPY['spy_cum_ret'] - SPY['spy_cum_ret'][0] + 1)\n",
    "SPY['strategy'] = x[1:]"
   ]
  },
  {
   "cell_type": "code",
   "execution_count": 40,
   "metadata": {
    "colab": {
     "base_uri": "https://localhost:8080/",
     "height": 279
    },
    "colab_type": "code",
    "executionInfo": {
     "elapsed": 2570646,
     "status": "ok",
     "timestamp": 1581313885153,
     "user": {
      "displayName": "莎娜shana",
      "photoUrl": "",
      "userId": "06539486535699047543"
     },
     "user_tz": 360
    },
    "id": "WihTVCPwW0F3",
    "outputId": "ac16f716-306c-42a4-f1d0-e3c7fed1233b",
    "scrolled": true
   },
   "outputs": [
    {
     "data": {
      "image/png": "[encoded data removed]",
      "text/plain": [
       "<Figure size 432x288 with 1 Axes>"
      ]
     },
     "metadata": {
      "tags": []
     },
     "output_type": "display_data"
    }
   ],
   "source": [
    "SPY.plot();"
   ]
  },
  {
   "cell_type": "code",
   "execution_count": 0,
   "metadata": {
    "colab": {},
    "colab_type": "code",
    "id": "GESFNyMQW0F7"
   },
   "outputs": [],
   "source": [
    "SPY = SPY.resample('Y').ffill()"
   ]
  },
  {
   "cell_type": "code",
   "execution_count": 42,
   "metadata": {
    "colab": {
     "base_uri": "https://localhost:8080/",
     "height": 283
    },
    "colab_type": "code",
    "executionInfo": {
     "elapsed": 2569033,
     "status": "ok",
     "timestamp": 1581313885691,
     "user": {
      "displayName": "莎娜shana",
      "photoUrl": "",
      "userId": "06539486535699047543"
     },
     "user_tz": 360
    },
    "id": "A5Tjnq3JW0F_",
    "outputId": "4a242a70-64a0-42d7-8e5e-4b19f2052f9d"
   },
   "outputs": [
    {
     "data": {
      "image/png": "[encoded data removed]",
      "text/plain": [
       "<Figure size 432x288 with 1 Axes>"
      ]
     },
     "metadata": {
      "tags": []
     },
     "output_type": "display_data"
    }
   ],
   "source": [
    "SPY.plot();"
   ]
  },
  {
   "cell_type": "code",
   "execution_count": 43,
   "metadata": {
    "colab": {
     "base_uri": "https://localhost:8080/",
     "height": 35
    },
    "colab_type": "code",
    "executionInfo": {
     "elapsed": 2567863,
     "status": "ok",
     "timestamp": 1581313885692,
     "user": {
      "displayName": "莎娜shana",
      "photoUrl": "",
      "userId": "06539486535699047543"
     },
     "user_tz": 360
    },
    "id": "BbS522YNW0GG",
    "outputId": "90bed519-ce31-40f0-b202-183c8091aa3c"
   },
   "outputs": [
    {
     "name": "stdout",
     "output_type": "stream",
     "text": [
      "Strategy Sharpe Ratio:  1.3858260756028364\n"
     ]
    }
   ],
   "source": [
    "strategy_mean_ret = (SPY['strategy'] - 1).diff().mean()\n",
    "strategy_std = (SPY['strategy'] - 1).diff().std()\n",
    "strategy_sr = strategy_mean_ret/strategy_std\n",
    "print('Strategy Sharpe Ratio: ',strategy_sr)"
   ]
  },
  {
   "cell_type": "code",
   "execution_count": 44,
   "metadata": {
    "colab": {
     "base_uri": "https://localhost:8080/",
     "height": 35
    },
    "colab_type": "code",
    "executionInfo": {
     "elapsed": 2566868,
     "status": "ok",
     "timestamp": 1581313885692,
     "user": {
      "displayName": "莎娜shana",
      "photoUrl": "",
      "userId": "06539486535699047543"
     },
     "user_tz": 360
    },
    "id": "OYwRG_BtW0GM",
    "outputId": "d1f834fb-ad27-4da6-e272-41554853c7d6"
   },
   "outputs": [
    {
     "name": "stdout",
     "output_type": "stream",
     "text": [
      "SP Sharpe Ratio:  0.9675171990497211\n"
     ]
    }
   ],
   "source": [
    "(SPY['spy_cum_ret'] - 1).diff().mean()\n",
    "(SPY['spy_cum_ret'] - 1).diff().std()\n",
    "print('SP Sharpe Ratio: ',(SPY['spy_cum_ret'] - 1).diff().mean()/(SPY['spy_cum_ret'] - 1).diff().std())"
   ]
  },
  {
   "cell_type": "code",
   "execution_count": 45,
   "metadata": {
    "colab": {
     "base_uri": "https://localhost:8080/",
     "height": 35
    },
    "colab_type": "code",
    "executionInfo": {
     "elapsed": 2566029,
     "status": "ok",
     "timestamp": 1581313885694,
     "user": {
      "displayName": "莎娜shana",
      "photoUrl": "",
      "userId": "06539486535699047543"
     },
     "user_tz": 360
    },
    "id": "JGVjxyXNW0GU",
    "outputId": "c1eb5051-35f6-42b0-a4ea-57f8bd331582"
   },
   "outputs": [
    {
     "data": {
      "text/plain": [
       "1.4779310639397638"
      ]
     },
     "execution_count": 45,
     "metadata": {
      "tags": []
     },
     "output_type": "execute_result"
    }
   ],
   "source": [
    "x[-1]"
   ]
  },
  {
   "cell_type": "code",
   "execution_count": 46,
   "metadata": {
    "colab": {
     "base_uri": "https://localhost:8080/",
     "height": 35
    },
    "colab_type": "code",
    "executionInfo": {
     "elapsed": 2565256,
     "status": "ok",
     "timestamp": 1581313885695,
     "user": {
      "displayName": "莎娜shana",
      "photoUrl": "",
      "userId": "06539486535699047543"
     },
     "user_tz": 360
    },
    "id": "QChXyp-jW0GX",
    "outputId": "d7657ec2-761f-4088-9204-d9faa2f0aefa"
   },
   "outputs": [
    {
     "data": {
      "text/plain": [
       "1.4453449999999985"
      ]
     },
     "execution_count": 46,
     "metadata": {
      "tags": []
     },
     "output_type": "execute_result"
    }
   ],
   "source": [
    "SPY['spy_cum_ret'][-1]"
   ]
  },
  {
   "cell_type": "code",
   "execution_count": 47,
   "metadata": {
    "colab": {
     "base_uri": "https://localhost:8080/",
     "height": 35
    },
    "colab_type": "code",
    "executionInfo": {
     "elapsed": 2564499,
     "status": "ok",
     "timestamp": 1581313885695,
     "user": {
      "displayName": "莎娜shana",
      "photoUrl": "",
      "userId": "06539486535699047543"
     },
     "user_tz": 360
    },
    "id": "IKnwS5kDW0Ga",
    "outputId": "8461d5a4-4f5e-4448-f249-3c84d3cd0c55"
   },
   "outputs": [
    {
     "data": {
      "text/plain": [
       "0.3011526836474171"
      ]
     },
     "execution_count": 47,
     "metadata": {
      "tags": []
     },
     "output_type": "execute_result"
    }
   ],
   "source": [
    "strategy_ret = (SPY['strategy'] - 1).diff().values[1:]\n",
    "spy_ret = (SPY['spy_cum_ret'] - 1).diff().values[1:]\n",
    "\n",
    "beta = (np.cov(spy_ret,strategy_ret)/np.var(spy_ret))[1,0]\n",
    "beta"
   ]
  },
  {
   "cell_type": "code",
   "execution_count": 48,
   "metadata": {
    "colab": {
     "base_uri": "https://localhost:8080/",
     "height": 35
    },
    "colab_type": "code",
    "executionInfo": {
     "elapsed": 2563666,
     "status": "ok",
     "timestamp": 1581313885698,
     "user": {
      "displayName": "莎娜shana",
      "photoUrl": "",
      "userId": "06539486535699047543"
     },
     "user_tz": 360
    },
    "id": "R3C9p2qkW0Go",
    "outputId": "273e0a92-cbfc-403d-8228-c052fc5eb2de"
   },
   "outputs": [
    {
     "data": {
      "text/plain": [
       "1.1729059097137187"
      ]
     },
     "execution_count": 48,
     "metadata": {
      "tags": []
     },
     "output_type": "execute_result"
    }
   ],
   "source": [
    "residual_ret = strategy_ret - beta * spy_ret\n",
    "IR = np.mean(residual_ret)/np.std(residual_ret)\n",
    "IR"
   ]
  },
  {
   "cell_type": "code",
   "execution_count": 49,
   "metadata": {
    "colab": {
     "base_uri": "https://localhost:8080/",
     "height": 35
    },
    "colab_type": "code",
    "executionInfo": {
     "elapsed": 2562872,
     "status": "ok",
     "timestamp": 1581313885700,
     "user": {
      "displayName": "莎娜shana",
      "photoUrl": "",
      "userId": "06539486535699047543"
     },
     "user_tz": 360
    },
    "id": "BmloFjVzW0Gw",
    "outputId": "6fcba921-5bfd-43bf-aa6c-851edd115674"
   },
   "outputs": [
    {
     "data": {
      "text/plain": [
       "0.06876284440816105"
      ]
     },
     "execution_count": 49,
     "metadata": {
      "tags": []
     },
     "output_type": "execute_result"
    }
   ],
   "source": [
    "alpha = np.mean(residual_ret)\n",
    "alpha"
   ]
  },
  {
   "cell_type": "markdown",
   "metadata": {
    "colab_type": "text",
    "id": "5Ct3XVBQW0G3"
   },
   "source": [
    "## Results\n",
    "\n",
    "From the previous three tests, we find the best combination of hyperparameter is: `max_depth`=8 , `n_estimator`=40, where the score of the validation is 0.3734.\n",
    "\n",
    "Using this combination of parameter, we get the results of the model:\n",
    "- Sharpe ratio for the strategy is 1.3858\n",
    "- Sharpe ratio for SPY is 0.9675\n",
    "- Information ratio for the strategy is 1.1729\n",
    "- Alpha for the strategy is 0.0688"
   ]
  },
  {
   "cell_type": "code",
   "execution_count": 0,
   "metadata": {
    "colab": {},
    "colab_type": "code",
    "id": "fXuiluwrjqfE"
   },
   "outputs": [],
   "source": []
  }
 ],
 "metadata": {
  "colab": {
   "collapsed_sections": [],
   "name": "HW2_Problem2-4_Best hyperparameter combination & Change optimal features each period.ipynb",
   "provenance": []
  },
  "kernelspec": {
   "display_name": "Python 3",
   "language": "python",
   "name": "python3"
  },
  "language_info": {
   "codemirror_mode": {
    "name": "ipython",
    "version": 3
   },
   "file_extension": ".py",
   "mimetype": "text/x-python",
   "name": "python",
   "nbconvert_exporter": "python",
   "pygments_lexer": "ipython3",
   "version": "3.7.1"
  },
  "latex_envs": {
   "LaTeX_envs_menu_present": true,
   "autoclose": false,
   "autocomplete": true,
   "bibliofile": "biblio.bib",
   "cite_by": "apalike",
   "current_citInitial": 1,
   "eqLabelWithNumbers": true,
   "eqNumInitial": 1,
   "hotkeys": {
    "equation": "Ctrl-E",
    "itemize": "Ctrl-I"
   },
   "labels_anchors": false,
   "latex_user_defs": false,
   "report_style_numbering": false,
   "user_envs_cfg": false
  }
 },
 "nbformat": 4,
 "nbformat_minor": 1
}
