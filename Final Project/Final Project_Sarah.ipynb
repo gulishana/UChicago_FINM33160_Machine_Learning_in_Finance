{
 "cells": [
  {
   "cell_type": "markdown",
   "metadata": {},
   "source": [
    "# Final Project\n",
    "Sarah Adilijiang (group member: Yanfei Zhou)"
   ]
  },
  {
   "cell_type": "markdown",
   "metadata": {},
   "source": [
    "# Table of Content\n",
    "`Please run the following code chunck to show the table of content.`\n",
    "<div id=\"toc\"></div>"
   ]
  },
  {
   "cell_type": "code",
   "execution_count": 1,
   "metadata": {},
   "outputs": [
    {
     "data": {
      "application/javascript": [
       "$.getScript('https://kmahelona.github.io/ipython_notebook_goodies/ipython_notebook_toc.js')\n"
      ],
      "text/plain": [
       "<IPython.core.display.Javascript object>"
      ]
     },
     "metadata": {},
     "output_type": "display_data"
    }
   ],
   "source": [
    "%%javascript\n",
    "$.getScript('https://kmahelona.github.io/ipython_notebook_goodies/ipython_notebook_toc.js')"
   ]
  },
  {
   "cell_type": "code",
   "execution_count": 4,
   "metadata": {},
   "outputs": [],
   "source": [
    "import pandas as pd\n",
    "import numpy as np\n",
    "import matplotlib.pyplot as plt\n",
    "%matplotlib inline\n",
    "\n",
    "from sklearn.metrics import accuracy_score, confusion_matrix\n",
    "from sklearn.tree import DecisionTreeClassifier\n",
    "from sklearn.ensemble import RandomForestClassifier, AdaBoostClassifier, VotingClassifier\n",
    "import lightgbm as lgb\n",
    "\n",
    "pd.set_option('use_inf_as_na', True)\n",
    "from collections import Counter\n",
    "import pickle\n",
    "from pandas.tseries.offsets import BDay"
   ]
  },
  {
   "cell_type": "markdown",
   "metadata": {},
   "source": [
    "## Part 1: Choose the Top 10 Optimal Featues with the Highest Frequencies\n",
    "\n",
    "In this part, we are given 9 optimal feature files. Each of these files contain a list of lists of optimal features for three classifiers: Random Forest Classifier, AdaBoosting Classifier, Gradient Boosting Classifier. We will compute the frequency for each feature which occurs as an optimal feature in the totality of these files. And then pick a set of 10 features with the highest frequencies as our optimal features for all the following back tests in this file."
   ]
  },
  {
   "cell_type": "markdown",
   "metadata": {},
   "source": [
    "#### 1. Combine all the features of the 9 optimal feature files into a single list"
   ]
  },
  {
   "cell_type": "code",
   "execution_count": 5,
   "metadata": {},
   "outputs": [],
   "source": [
    "# optimal features for AdaBoosting Classifier\n",
    "with open('../data/ada_opt_feat_4.pkl','rb') as f:\n",
    "    ada_opt_feat_4 = pickle.load(f)\n",
    "with open('../data/ada_opt_feat_5.pkl','rb') as f:\n",
    "    ada_opt_feat_5 = pickle.load(f)\n",
    "with open('../data/ada_opt_feat_6.pkl','rb') as f:\n",
    "    ada_opt_feat_6 = pickle.load(f)\n",
    "\n",
    "# optimal features for Gradient Boosting Classifier\n",
    "with open('../data/gb_opt_feat_1.pkl','rb') as f:\n",
    "    gb_opt_feat_1 = pickle.load(f)\n",
    "with open('../data/gb_opt_feat_2.pkl','rb') as f:\n",
    "    gb_opt_feat_2 = pickle.load(f)\n",
    "with open('../data/gb_opt_feat_3.pkl','rb') as f:\n",
    "    gb_opt_feat_3 = pickle.load(f)\n",
    "\n",
    "# optimal features for Random Forest Classifier\n",
    "with open('../data/opt_feat_4.pkl','rb') as f:\n",
    "    opt_feat_4 = pickle.load(f)\n",
    "with open('../data/opt_feat_5.pkl','rb') as f:\n",
    "    opt_feat_5 = pickle.load(f)\n",
    "with open('../data/opt_feat_6.pkl','rb') as f:\n",
    "    opt_feat_6 = pickle.load(f)"
   ]
  },
  {
   "cell_type": "code",
   "execution_count": 6,
   "metadata": {},
   "outputs": [
    {
     "data": {
      "text/plain": [
       "8989"
      ]
     },
     "execution_count": 6,
     "metadata": {},
     "output_type": "execute_result"
    }
   ],
   "source": [
    "opt_feats = [ada_opt_feat_4, ada_opt_feat_5, ada_opt_feat_6,\n",
    "             gb_opt_feat_1,  gb_opt_feat_2,  gb_opt_feat_3,\n",
    "             opt_feat_4,     opt_feat_5,     opt_feat_6]\n",
    "\n",
    "# for opt in opt_feats:\n",
    "#     print(len(opt))  # all has a lenghth of 62\n",
    "\n",
    "all_feats = []\n",
    "for opt in opt_feats:\n",
    "    for i in range(len(opt)):\n",
    "        all_feats += list(opt[i])\n",
    "len(all_feats)  # all optimal features"
   ]
  },
  {
   "cell_type": "markdown",
   "metadata": {},
   "source": [
    "#### 2. Compute the frequency for each feature which occurs as an optimal feature in the totality of these files."
   ]
  },
  {
   "cell_type": "code",
   "execution_count": 7,
   "metadata": {},
   "outputs": [
    {
     "data": {
      "text/plain": [
       "Counter({'capxy': 57,\n",
       "         'rect_turnq': 81,\n",
       "         'at4': 24,\n",
       "         'actq': 30,\n",
       "         'cshiq': 37,\n",
       "         'cash_debtq': 46,\n",
       "         'oiadpq': 42,\n",
       "         'lt_ppentq': 102,\n",
       "         'revty': 57,\n",
       "         'oeps12': 47,\n",
       "         'sale_equityq': 62,\n",
       "         'txpdy': 79,\n",
       "         'oepsxy': 82,\n",
       "         'lagseq4': 13,\n",
       "         'capital_ratioq': 23,\n",
       "         'pay_turnq': 68,\n",
       "         'cf_yield': 148,\n",
       "         'pstkq': 6,\n",
       "         'dvpspq': 81,\n",
       "         'epsfxq': 55,\n",
       "         'pcfq': 45,\n",
       "         'bmq': 78,\n",
       "         'sale_invcapq': 57,\n",
       "         'int_totdebtq': 74,\n",
       "         'seqq': 13,\n",
       "         'ceq4': 20,\n",
       "         'nopiq': 83,\n",
       "         'pretret_noaq': 66,\n",
       "         'lt_debtq': 43,\n",
       "         'lagppent_alt4': 17,\n",
       "         'cshprq': 28,\n",
       "         'lctq': 21,\n",
       "         'xsgay': 90,\n",
       "         'fcf_ocfq': 94,\n",
       "         'xsgaq': 50,\n",
       "         'invtq': 29,\n",
       "         'cogsq': 33,\n",
       "         'int_debtq': 41,\n",
       "         'dlcchy': 21,\n",
       "         'at_turnq': 39,\n",
       "         'debt_ebitdaq': 63,\n",
       "         'debt_invcapq': 22,\n",
       "         'book_value_yield': 63,\n",
       "         'fcf_yield': 168,\n",
       "         'npmq': 36,\n",
       "         'oancfy_q': 121,\n",
       "         'evmq': 174,\n",
       "         'opmadq': 52,\n",
       "         'short_debtq': 54,\n",
       "         'epspxq': 23,\n",
       "         'efftaxq': 75,\n",
       "         'ptpmq': 39,\n",
       "         'sale_nwcq': 56,\n",
       "         'roaq': 66,\n",
       "         'dpcq': 43,\n",
       "         'capeiq': 109,\n",
       "         'cstkq': 68,\n",
       "         'chechy': 96,\n",
       "         'gpmq': 84,\n",
       "         'rectq': 52,\n",
       "         'debt_assetsq': 61,\n",
       "         'cheq': 67,\n",
       "         'pe_op_dilq': 16,\n",
       "         'ibadj12': 31,\n",
       "         'req': 59,\n",
       "         'saleq': 24,\n",
       "         'atq': 27,\n",
       "         'dltt_beq': 39,\n",
       "         'intcovq': 37,\n",
       "         'curr_debtq': 44,\n",
       "         'opepsq': 64,\n",
       "         'cash_ratioq': 52,\n",
       "         'ocf_lctq': 68,\n",
       "         'xinty': 75,\n",
       "         'lagicapt4': 43,\n",
       "         'dvq': 50,\n",
       "         'ppentq': 44,\n",
       "         'epspiq': 37,\n",
       "         'psq': 16,\n",
       "         'dpq': 40,\n",
       "         'aftret_invcapxq': 34,\n",
       "         'oibdpy': 46,\n",
       "         'txpq': 36,\n",
       "         'dlcq': 49,\n",
       "         'xintq': 34,\n",
       "         'lctq4': 33,\n",
       "         'yearly_sales': 34,\n",
       "         'ltq': 43,\n",
       "         'csh12q': 25,\n",
       "         'dvy': 66,\n",
       "         'epsf12': 12,\n",
       "         'ceqq': 17,\n",
       "         'cash_conversionq': 54,\n",
       "         'dltisy': 53,\n",
       "         'pe_op_basicq': 31,\n",
       "         'prccq': 88,\n",
       "         'dprq': 62,\n",
       "         'debt_capitalq': 44,\n",
       "         'dlttq': 35,\n",
       "         'curr_ratioq': 39,\n",
       "         'aftret_eqq': 32,\n",
       "         'oibdpq': 50,\n",
       "         'cash_ltq': 59,\n",
       "         'niq': 63,\n",
       "         'book_value_per_share': 47,\n",
       "         'cfmq': 64,\n",
       "         'ibcomy': 46,\n",
       "         'roeq': 43,\n",
       "         'lagbe4': 26,\n",
       "         'mibq': 18,\n",
       "         'ibcq': 43,\n",
       "         'miiy': 25,\n",
       "         'cfo-per-share': 82,\n",
       "         'epsx12': 23,\n",
       "         'inv_turnq': 73,\n",
       "         'profit_lctq': 52,\n",
       "         'buy_back_yield': 76,\n",
       "         'miiq': 30,\n",
       "         'spcsrc_B-': 23,\n",
       "         'totdebt_invcapq': 46,\n",
       "         'dpcy': 54,\n",
       "         'de_ratioq': 56,\n",
       "         'txtq': 68,\n",
       "         'aftret_equityq': 40,\n",
       "         'piq': 33,\n",
       "         'epsfiq': 64,\n",
       "         'oancfy': 82,\n",
       "         'epspi12': 47,\n",
       "         'dltry': 52,\n",
       "         'prcraq': 40,\n",
       "         'invt_actq': 53,\n",
       "         'rd_saleq': 56,\n",
       "         'quick_ratioq': 35,\n",
       "         'ibcy': 34,\n",
       "         'cshopq': 56,\n",
       "         'fcf_csfhdq': 114,\n",
       "         'lagppent4': 28,\n",
       "         'revtq': 7,\n",
       "         'opcfq': 41,\n",
       "         'apq': 72,\n",
       "         'icaptq': 40,\n",
       "         'debt_atq': 30,\n",
       "         'opmbdq': 52,\n",
       "         'fqtr_2': 67,\n",
       "         'txditcq': 26,\n",
       "         'capxq': 65,\n",
       "         'rect_actq': 53,\n",
       "         'equity_invcapq': 24,\n",
       "         'gprofq': 54,\n",
       "         'pretret_earnatq': 32,\n",
       "         'intcov_ratioq': 30,\n",
       "         'accrualq': 65,\n",
       "         'cogsy': 70,\n",
       "         'roceq': 47,\n",
       "         'optdrq': 21,\n",
       "         'spcsrc_B+': 1,\n",
       "         'at5': 44,\n",
       "         'teqq': 43,\n",
       "         'be4': 14,\n",
       "         'xrdy': 27,\n",
       "         'seq4': 19,\n",
       "         'pe_exiq': 29,\n",
       "         'market_cap': 89,\n",
       "         'cshoq': 29,\n",
       "         'cshfdq': 27,\n",
       "         'fqtr_3': 38,\n",
       "         'beq': 26,\n",
       "         'txdbq': 22,\n",
       "         'oepf12': 36,\n",
       "         'spiq': 52,\n",
       "         'fqtr_4': 37,\n",
       "         'pe_incq': 8,\n",
       "         'cdvcy': 5,\n",
       "         'sic_4833': 3,\n",
       "         'dvpq': 8,\n",
       "         'xrdq': 33,\n",
       "         'sic_3851': 3,\n",
       "         'epsfi12': 44,\n",
       "         'xidoy': 16,\n",
       "         'sector_code_817.0': 6,\n",
       "         'sic_3823': 1,\n",
       "         'sector_code_187.0': 2,\n",
       "         'sic_6351': 1,\n",
       "         'sic_4700': 2,\n",
       "         'sic_2833': 5,\n",
       "         'sic_4832': 1,\n",
       "         'sector_code_715.0': 1,\n",
       "         'sic_3827': 1,\n",
       "         'sector_code_620.0': 1,\n",
       "         'sic_3317': 1,\n",
       "         'fqtr_1': 17,\n",
       "         'spcsrc_A+': 7,\n",
       "         'sic_3841': 7,\n",
       "         'sector_code_395.0': 4,\n",
       "         'sic_1311': 8,\n",
       "         'ibadjq': 40,\n",
       "         'sector_code_180.0': 2,\n",
       "         'sic_2870': 5,\n",
       "         'sic_2320': 5,\n",
       "         'pstkrq': 4,\n",
       "         'xoprq': 24,\n",
       "         'sic_4841': 1,\n",
       "         'sic_4931': 1,\n",
       "         'sic_3728': 1,\n",
       "         'sector_code_835.0': 3,\n",
       "         'sic_3578': 12,\n",
       "         'spcsrc_C': 5,\n",
       "         'sic_2990': 1,\n",
       "         'sector_code_235.0': 3,\n",
       "         'sector_code_150.0': 2,\n",
       "         'sic_6331': 5,\n",
       "         'sic_2080': 1,\n",
       "         'sic_2330': 1,\n",
       "         'sic_5084': 2,\n",
       "         'sic_7374': 1,\n",
       "         'sector_code_705.0': 1,\n",
       "         'sic_1040': 1,\n",
       "         'sector_code_390.0': 1,\n",
       "         'sector_code_265.0': 1,\n",
       "         'sic_8050': 2,\n",
       "         'sic_7830': 4,\n",
       "         'sic_7372': 4,\n",
       "         'spcsrc_A-': 1,\n",
       "         'sic_5150': 2,\n",
       "         'sic_3812': 2,\n",
       "         'spcsrc_A': 4,\n",
       "         'sic_3411': 1,\n",
       "         'sic_2430': 3,\n",
       "         'ibq': 48,\n",
       "         'sic_6036': 1,\n",
       "         'sector_code_185.0': 1,\n",
       "         'sector_code_615.0': 2,\n",
       "         'sic_3714': 2,\n",
       "         'sector_code_400.0': 2,\n",
       "         'spcsrc_D': 2,\n",
       "         'sector_code_175.0': 1,\n",
       "         'sector_code_247.0': 1,\n",
       "         'ibcomq': 38,\n",
       "         'sector_code_147.0': 1,\n",
       "         'sector_code_287.0': 1,\n",
       "         'sector_code_449.0': 2,\n",
       "         'sic_2731': 1,\n",
       "         'xidocy': 8,\n",
       "         'sic_3672': 1,\n",
       "         'sector_code_130.0': 1,\n",
       "         'sic_3270': 1,\n",
       "         'sector_code_380.0': 1,\n",
       "         'sic_5047': 1,\n",
       "         'sector_code_188.0': 1,\n",
       "         'sic_2851': 2,\n",
       "         'sector_code_415.0': 1,\n",
       "         'sector_code_420.0': 2,\n",
       "         'oepsxq': 63,\n",
       "         'sic_4899': 1,\n",
       "         'sector_code_445.0': 1,\n",
       "         'sector_code_262.0': 1,\n",
       "         'sector_code_245.0': 1,\n",
       "         'sic_2111': 1,\n",
       "         'sic_7990': 1,\n",
       "         'sic_3579': 1,\n",
       "         'sic_8700': 1,\n",
       "         'sector_code_280.0': 2,\n",
       "         'sic_5065': 2,\n",
       "         'sic_6099': 1,\n",
       "         'sic_3620': 1,\n",
       "         'sic_3613': 1,\n",
       "         'sic_7900': 1,\n",
       "         'sic_3021': 1,\n",
       "         'sic_6172': 1,\n",
       "         'sic_2030': 1,\n",
       "         'sic_3679': 2,\n",
       "         'sic_5172': 1,\n",
       "         'sic_2711': 1,\n",
       "         'sic_4512': 2,\n",
       "         'sector_code_460.0': 1,\n",
       "         'sic_5000': 1,\n",
       "         'sector_code_605.0': 1,\n",
       "         'sector_code_840.0': 1,\n",
       "         'sic_8741': 1,\n",
       "         'sic_3678': 2,\n",
       "         'sic_5331': 1,\n",
       "         'sector_code_475.0': 1,\n",
       "         'sic_3290': 1,\n",
       "         'sector_code_112.0': 1})"
      ]
     },
     "execution_count": 7,
     "metadata": {},
     "output_type": "execute_result"
    }
   ],
   "source": [
    "feat_count = Counter(all_feats)\n",
    "feat_count"
   ]
  },
  {
   "cell_type": "code",
   "execution_count": 8,
   "metadata": {},
   "outputs": [
    {
     "data": {
      "text/plain": [
       "284"
      ]
     },
     "execution_count": 8,
     "metadata": {},
     "output_type": "execute_result"
    }
   ],
   "source": [
    "len(feat_count)  # all unique features"
   ]
  },
  {
   "cell_type": "markdown",
   "metadata": {},
   "source": [
    "#### 3. Pick a set of 10 features with the highest frequencies\n",
    "- This will be used as our optimal_features for all the period (so we do not change features each quarter)."
   ]
  },
  {
   "cell_type": "code",
   "execution_count": 9,
   "metadata": {},
   "outputs": [
    {
     "data": {
      "text/plain": [
       "{'evmq': 174,\n",
       " 'fcf_yield': 168,\n",
       " 'cf_yield': 148,\n",
       " 'oancfy_q': 121,\n",
       " 'fcf_csfhdq': 114,\n",
       " 'capeiq': 109,\n",
       " 'lt_ppentq': 102,\n",
       " 'chechy': 96,\n",
       " 'fcf_ocfq': 94,\n",
       " 'xsgay': 90}"
      ]
     },
     "execution_count": 9,
     "metadata": {},
     "output_type": "execute_result"
    }
   ],
   "source": [
    "top10_feats = dict(sorted(feat_count.items(), key= lambda item: item[1], reverse=True)[0:10])\n",
    "top10_feats"
   ]
  },
  {
   "cell_type": "code",
   "execution_count": 10,
   "metadata": {},
   "outputs": [
    {
     "data": {
      "text/plain": [
       "['evmq',\n",
       " 'fcf_yield',\n",
       " 'cf_yield',\n",
       " 'oancfy_q',\n",
       " 'fcf_csfhdq',\n",
       " 'capeiq',\n",
       " 'lt_ppentq',\n",
       " 'chechy',\n",
       " 'fcf_ocfq',\n",
       " 'xsgay']"
      ]
     },
     "execution_count": 10,
     "metadata": {},
     "output_type": "execute_result"
    }
   ],
   "source": [
    "optimal_features = list(top10_feats.keys())\n",
    "optimal_features"
   ]
  },
  {
   "cell_type": "markdown",
   "metadata": {},
   "source": [
    "## Part 2: Find a Good Set of Hyperparameters for Three Classifiers\n",
    "\n",
    "Run several back tests with different sets of hyperparameters, using the 10 optimal features with highest frequencies that are picked in Part 1 through the whole period (so we do not change features each quarter) for each of the three classifiers below. Find the hyperparameters for each classifier from these experiments that give the best Sharpe Ratio: \n",
    "- Random Forest Classifier\n",
    "- AdaBoosting Classifier\n",
    "- Gradient Boosting Classifier"
   ]
  },
  {
   "cell_type": "markdown",
   "metadata": {},
   "source": [
    "#### 1. Import data and only include companies with market cap $> 1B$ "
   ]
  },
  {
   "cell_type": "code",
   "execution_count": 16,
   "metadata": {},
   "outputs": [
    {
     "name": "stderr",
     "output_type": "stream",
     "text": [
      "c:\\users\\gulishana\\appdata\\local\\programs\\python\\python37\\lib\\site-packages\\pandas\\core\\frame.py:4034: SettingWithCopyWarning: \n",
      "A value is trying to be set on a copy of a slice from a DataFrame\n",
      "\n",
      "See the caveats in the documentation: http://pandas.pydata.org/pandas-docs/stable/indexing.html#indexing-view-versus-copy\n",
      "  downcast=downcast, **kwargs)\n"
     ]
    }
   ],
   "source": [
    "raw_data = pd.read_pickle('../data/dataset.pkl')\n",
    "data = raw_data[raw_data['market_cap'] > 1000.0]\n",
    "data.fillna(0.0, inplace=True) "
   ]
  },
  {
   "cell_type": "code",
   "execution_count": 17,
   "metadata": {},
   "outputs": [
    {
     "data": {
      "text/plain": [
       "(111468, 731)"
      ]
     },
     "execution_count": 17,
     "metadata": {},
     "output_type": "execute_result"
    }
   ],
   "source": [
    "data.shape"
   ]
  },
  {
   "cell_type": "code",
   "execution_count": 18,
   "metadata": {},
   "outputs": [
    {
     "data": {
      "text/html": [
       "<div>\n",
       "<style scoped>\n",
       "    .dataframe tbody tr th:only-of-type {\n",
       "        vertical-align: middle;\n",
       "    }\n",
       "\n",
       "    .dataframe tbody tr th {\n",
       "        vertical-align: top;\n",
       "    }\n",
       "\n",
       "    .dataframe thead th {\n",
       "        text-align: right;\n",
       "    }\n",
       "</style>\n",
       "<table border=\"1\" class=\"dataframe\">\n",
       "  <thead>\n",
       "    <tr style=\"text-align: right;\">\n",
       "      <th></th>\n",
       "      <th></th>\n",
       "      <th>actq</th>\n",
       "      <th>apq</th>\n",
       "      <th>atq</th>\n",
       "      <th>ceqq</th>\n",
       "      <th>cheq</th>\n",
       "      <th>cogsq</th>\n",
       "      <th>csh12q</th>\n",
       "      <th>cshfdq</th>\n",
       "      <th>cshiq</th>\n",
       "      <th>cshopq</th>\n",
       "      <th>...</th>\n",
       "      <th>sector_code_815.0</th>\n",
       "      <th>sector_code_817.0</th>\n",
       "      <th>sector_code_822.0</th>\n",
       "      <th>sector_code_823.0</th>\n",
       "      <th>sector_code_825.0</th>\n",
       "      <th>sector_code_830.0</th>\n",
       "      <th>sector_code_835.0</th>\n",
       "      <th>sector_code_840.0</th>\n",
       "      <th>sector_code_845.0</th>\n",
       "      <th>sector_code_850.0</th>\n",
       "    </tr>\n",
       "    <tr>\n",
       "      <th>date</th>\n",
       "      <th>ticker</th>\n",
       "      <th></th>\n",
       "      <th></th>\n",
       "      <th></th>\n",
       "      <th></th>\n",
       "      <th></th>\n",
       "      <th></th>\n",
       "      <th></th>\n",
       "      <th></th>\n",
       "      <th></th>\n",
       "      <th></th>\n",
       "      <th></th>\n",
       "      <th></th>\n",
       "      <th></th>\n",
       "      <th></th>\n",
       "      <th></th>\n",
       "      <th></th>\n",
       "      <th></th>\n",
       "      <th></th>\n",
       "      <th></th>\n",
       "      <th></th>\n",
       "      <th></th>\n",
       "    </tr>\n",
       "  </thead>\n",
       "  <tbody>\n",
       "    <tr>\n",
       "      <th rowspan=\"2\" valign=\"top\">2000-02-09</th>\n",
       "      <th>CSCO</th>\n",
       "      <td>7722.000</td>\n",
       "      <td>482.000</td>\n",
       "      <td>21391.000</td>\n",
       "      <td>16523.000</td>\n",
       "      <td>3968.000</td>\n",
       "      <td>1422.000</td>\n",
       "      <td>3374.1250</td>\n",
       "      <td>3648.000</td>\n",
       "      <td>3445.000</td>\n",
       "      <td>0.0</td>\n",
       "      <td>...</td>\n",
       "      <td>0</td>\n",
       "      <td>0</td>\n",
       "      <td>0</td>\n",
       "      <td>0</td>\n",
       "      <td>0</td>\n",
       "      <td>0</td>\n",
       "      <td>0</td>\n",
       "      <td>0</td>\n",
       "      <td>0</td>\n",
       "      <td>0</td>\n",
       "    </tr>\n",
       "    <tr>\n",
       "      <th>ROP</th>\n",
       "      <td>172.725</td>\n",
       "      <td>19.662</td>\n",
       "      <td>474.649</td>\n",
       "      <td>239.432</td>\n",
       "      <td>3.198</td>\n",
       "      <td>47.634</td>\n",
       "      <td>30.2688</td>\n",
       "      <td>31.217</td>\n",
       "      <td>0.000</td>\n",
       "      <td>0.0</td>\n",
       "      <td>...</td>\n",
       "      <td>0</td>\n",
       "      <td>0</td>\n",
       "      <td>0</td>\n",
       "      <td>0</td>\n",
       "      <td>0</td>\n",
       "      <td>0</td>\n",
       "      <td>0</td>\n",
       "      <td>0</td>\n",
       "      <td>0</td>\n",
       "      <td>0</td>\n",
       "    </tr>\n",
       "    <tr>\n",
       "      <th>2000-02-10</th>\n",
       "      <th>CMOS</th>\n",
       "      <td>240.767</td>\n",
       "      <td>27.044</td>\n",
       "      <td>376.536</td>\n",
       "      <td>209.411</td>\n",
       "      <td>68.625</td>\n",
       "      <td>43.023</td>\n",
       "      <td>21.4360</td>\n",
       "      <td>23.753</td>\n",
       "      <td>0.000</td>\n",
       "      <td>0.0</td>\n",
       "      <td>...</td>\n",
       "      <td>0</td>\n",
       "      <td>0</td>\n",
       "      <td>0</td>\n",
       "      <td>0</td>\n",
       "      <td>0</td>\n",
       "      <td>0</td>\n",
       "      <td>0</td>\n",
       "      <td>0</td>\n",
       "      <td>0</td>\n",
       "      <td>0</td>\n",
       "    </tr>\n",
       "    <tr>\n",
       "      <th>2000-02-11</th>\n",
       "      <th>DELL</th>\n",
       "      <td>7681.000</td>\n",
       "      <td>3538.000</td>\n",
       "      <td>11471.000</td>\n",
       "      <td>5308.000</td>\n",
       "      <td>4132.000</td>\n",
       "      <td>5452.000</td>\n",
       "      <td>2536.0000</td>\n",
       "      <td>2731.000</td>\n",
       "      <td>2575.000</td>\n",
       "      <td>0.0</td>\n",
       "      <td>...</td>\n",
       "      <td>0</td>\n",
       "      <td>0</td>\n",
       "      <td>0</td>\n",
       "      <td>0</td>\n",
       "      <td>0</td>\n",
       "      <td>0</td>\n",
       "      <td>0</td>\n",
       "      <td>0</td>\n",
       "      <td>0</td>\n",
       "      <td>0</td>\n",
       "    </tr>\n",
       "    <tr>\n",
       "      <th>2000-02-15</th>\n",
       "      <th>VAL</th>\n",
       "      <td>507.082</td>\n",
       "      <td>139.497</td>\n",
       "      <td>1094.080</td>\n",
       "      <td>402.382</td>\n",
       "      <td>27.605</td>\n",
       "      <td>221.366</td>\n",
       "      <td>43.1858</td>\n",
       "      <td>43.687</td>\n",
       "      <td>53.321</td>\n",
       "      <td>0.0</td>\n",
       "      <td>...</td>\n",
       "      <td>0</td>\n",
       "      <td>0</td>\n",
       "      <td>0</td>\n",
       "      <td>0</td>\n",
       "      <td>0</td>\n",
       "      <td>0</td>\n",
       "      <td>0</td>\n",
       "      <td>0</td>\n",
       "      <td>0</td>\n",
       "      <td>0</td>\n",
       "    </tr>\n",
       "  </tbody>\n",
       "</table>\n",
       "<p>5 rows × 731 columns</p>\n",
       "</div>"
      ],
      "text/plain": [
       "                       actq       apq        atq       ceqq      cheq  \\\n",
       "date       ticker                                                       \n",
       "2000-02-09 CSCO    7722.000   482.000  21391.000  16523.000  3968.000   \n",
       "           ROP      172.725    19.662    474.649    239.432     3.198   \n",
       "2000-02-10 CMOS     240.767    27.044    376.536    209.411    68.625   \n",
       "2000-02-11 DELL    7681.000  3538.000  11471.000   5308.000  4132.000   \n",
       "2000-02-15 VAL      507.082   139.497   1094.080    402.382    27.605   \n",
       "\n",
       "                      cogsq     csh12q    cshfdq     cshiq  cshopq  ...  \\\n",
       "date       ticker                                                   ...   \n",
       "2000-02-09 CSCO    1422.000  3374.1250  3648.000  3445.000     0.0  ...   \n",
       "           ROP       47.634    30.2688    31.217     0.000     0.0  ...   \n",
       "2000-02-10 CMOS      43.023    21.4360    23.753     0.000     0.0  ...   \n",
       "2000-02-11 DELL    5452.000  2536.0000  2731.000  2575.000     0.0  ...   \n",
       "2000-02-15 VAL      221.366    43.1858    43.687    53.321     0.0  ...   \n",
       "\n",
       "                   sector_code_815.0  sector_code_817.0  sector_code_822.0  \\\n",
       "date       ticker                                                            \n",
       "2000-02-09 CSCO                    0                  0                  0   \n",
       "           ROP                     0                  0                  0   \n",
       "2000-02-10 CMOS                    0                  0                  0   \n",
       "2000-02-11 DELL                    0                  0                  0   \n",
       "2000-02-15 VAL                     0                  0                  0   \n",
       "\n",
       "                   sector_code_823.0  sector_code_825.0  sector_code_830.0  \\\n",
       "date       ticker                                                            \n",
       "2000-02-09 CSCO                    0                  0                  0   \n",
       "           ROP                     0                  0                  0   \n",
       "2000-02-10 CMOS                    0                  0                  0   \n",
       "2000-02-11 DELL                    0                  0                  0   \n",
       "2000-02-15 VAL                     0                  0                  0   \n",
       "\n",
       "                   sector_code_835.0  sector_code_840.0  sector_code_845.0  \\\n",
       "date       ticker                                                            \n",
       "2000-02-09 CSCO                    0                  0                  0   \n",
       "           ROP                     0                  0                  0   \n",
       "2000-02-10 CMOS                    0                  0                  0   \n",
       "2000-02-11 DELL                    0                  0                  0   \n",
       "2000-02-15 VAL                     0                  0                  0   \n",
       "\n",
       "                   sector_code_850.0  \n",
       "date       ticker                     \n",
       "2000-02-09 CSCO                    0  \n",
       "           ROP                     0  \n",
       "2000-02-10 CMOS                    0  \n",
       "2000-02-11 DELL                    0  \n",
       "2000-02-15 VAL                     0  \n",
       "\n",
       "[5 rows x 731 columns]"
      ]
     },
     "execution_count": 18,
     "metadata": {},
     "output_type": "execute_result"
    }
   ],
   "source": [
    "data.head()"
   ]
  },
  {
   "cell_type": "markdown",
   "metadata": {},
   "source": [
    "#### 2. Define label: $y \\in \\{1,0,-1\\}$\n",
    "Insert a column in the data set with entries: \n",
    "- (1) 1 if the Stock return is more then 1% higher than the SPY return; \n",
    "- (2) 0 if it is between -1% and 1%; \n",
    "- (3) -1 if the Stock underperforms the SPY by more than -1%."
   ]
  },
  {
   "cell_type": "code",
   "execution_count": 19,
   "metadata": {},
   "outputs": [],
   "source": [
    "def f(x):\n",
    "    if x > 0.01:\n",
    "        return 1\n",
    "    elif x < -0.01:\n",
    "        return -1\n",
    "    else:\n",
    "        return 0"
   ]
  },
  {
   "cell_type": "code",
   "execution_count": 22,
   "metadata": {},
   "outputs": [
    {
     "name": "stderr",
     "output_type": "stream",
     "text": [
      "c:\\users\\gulishana\\appdata\\local\\programs\\python\\python37\\lib\\site-packages\\ipykernel_launcher.py:1: SettingWithCopyWarning: \n",
      "A value is trying to be set on a copy of a slice from a DataFrame.\n",
      "Try using .loc[row_indexer,col_indexer] = value instead\n",
      "\n",
      "See the caveats in the documentation: http://pandas.pydata.org/pandas-docs/stable/indexing.html#indexing-view-versus-copy\n",
      "  \"\"\"Entry point for launching an IPython kernel.\n"
     ]
    }
   ],
   "source": [
    "data['rel_performance'] = data['pred_rel_return'].apply(f)\n",
    "data.reset_index(inplace=True,)\n",
    "data.set_index('date', inplace=True)"
   ]
  },
  {
   "cell_type": "code",
   "execution_count": 23,
   "metadata": {},
   "outputs": [
    {
     "data": {
      "text/plain": [
       "(111468, 733)"
      ]
     },
     "execution_count": 23,
     "metadata": {},
     "output_type": "execute_result"
    }
   ],
   "source": [
    "data.shape"
   ]
  },
  {
   "cell_type": "code",
   "execution_count": 24,
   "metadata": {},
   "outputs": [
    {
     "data": {
      "text/html": [
       "<div>\n",
       "<style scoped>\n",
       "    .dataframe tbody tr th:only-of-type {\n",
       "        vertical-align: middle;\n",
       "    }\n",
       "\n",
       "    .dataframe tbody tr th {\n",
       "        vertical-align: top;\n",
       "    }\n",
       "\n",
       "    .dataframe thead th {\n",
       "        text-align: right;\n",
       "    }\n",
       "</style>\n",
       "<table border=\"1\" class=\"dataframe\">\n",
       "  <thead>\n",
       "    <tr style=\"text-align: right;\">\n",
       "      <th></th>\n",
       "      <th>ticker</th>\n",
       "      <th>actq</th>\n",
       "      <th>apq</th>\n",
       "      <th>atq</th>\n",
       "      <th>ceqq</th>\n",
       "      <th>cheq</th>\n",
       "      <th>cogsq</th>\n",
       "      <th>csh12q</th>\n",
       "      <th>cshfdq</th>\n",
       "      <th>cshiq</th>\n",
       "      <th>...</th>\n",
       "      <th>sector_code_817.0</th>\n",
       "      <th>sector_code_822.0</th>\n",
       "      <th>sector_code_823.0</th>\n",
       "      <th>sector_code_825.0</th>\n",
       "      <th>sector_code_830.0</th>\n",
       "      <th>sector_code_835.0</th>\n",
       "      <th>sector_code_840.0</th>\n",
       "      <th>sector_code_845.0</th>\n",
       "      <th>sector_code_850.0</th>\n",
       "      <th>rel_performance</th>\n",
       "    </tr>\n",
       "    <tr>\n",
       "      <th>date</th>\n",
       "      <th></th>\n",
       "      <th></th>\n",
       "      <th></th>\n",
       "      <th></th>\n",
       "      <th></th>\n",
       "      <th></th>\n",
       "      <th></th>\n",
       "      <th></th>\n",
       "      <th></th>\n",
       "      <th></th>\n",
       "      <th></th>\n",
       "      <th></th>\n",
       "      <th></th>\n",
       "      <th></th>\n",
       "      <th></th>\n",
       "      <th></th>\n",
       "      <th></th>\n",
       "      <th></th>\n",
       "      <th></th>\n",
       "      <th></th>\n",
       "      <th></th>\n",
       "    </tr>\n",
       "  </thead>\n",
       "  <tbody>\n",
       "    <tr>\n",
       "      <th>2000-02-09</th>\n",
       "      <td>CSCO</td>\n",
       "      <td>7722.000</td>\n",
       "      <td>482.000</td>\n",
       "      <td>21391.000</td>\n",
       "      <td>16523.000</td>\n",
       "      <td>3968.000</td>\n",
       "      <td>1422.000</td>\n",
       "      <td>3374.1250</td>\n",
       "      <td>3648.000</td>\n",
       "      <td>3445.000</td>\n",
       "      <td>...</td>\n",
       "      <td>0</td>\n",
       "      <td>0</td>\n",
       "      <td>0</td>\n",
       "      <td>0</td>\n",
       "      <td>0</td>\n",
       "      <td>0</td>\n",
       "      <td>0</td>\n",
       "      <td>0</td>\n",
       "      <td>0</td>\n",
       "      <td>-1</td>\n",
       "    </tr>\n",
       "    <tr>\n",
       "      <th>2000-02-09</th>\n",
       "      <td>ROP</td>\n",
       "      <td>172.725</td>\n",
       "      <td>19.662</td>\n",
       "      <td>474.649</td>\n",
       "      <td>239.432</td>\n",
       "      <td>3.198</td>\n",
       "      <td>47.634</td>\n",
       "      <td>30.2688</td>\n",
       "      <td>31.217</td>\n",
       "      <td>0.000</td>\n",
       "      <td>...</td>\n",
       "      <td>0</td>\n",
       "      <td>0</td>\n",
       "      <td>0</td>\n",
       "      <td>0</td>\n",
       "      <td>0</td>\n",
       "      <td>0</td>\n",
       "      <td>0</td>\n",
       "      <td>0</td>\n",
       "      <td>0</td>\n",
       "      <td>1</td>\n",
       "    </tr>\n",
       "    <tr>\n",
       "      <th>2000-02-10</th>\n",
       "      <td>CMOS</td>\n",
       "      <td>240.767</td>\n",
       "      <td>27.044</td>\n",
       "      <td>376.536</td>\n",
       "      <td>209.411</td>\n",
       "      <td>68.625</td>\n",
       "      <td>43.023</td>\n",
       "      <td>21.4360</td>\n",
       "      <td>23.753</td>\n",
       "      <td>0.000</td>\n",
       "      <td>...</td>\n",
       "      <td>0</td>\n",
       "      <td>0</td>\n",
       "      <td>0</td>\n",
       "      <td>0</td>\n",
       "      <td>0</td>\n",
       "      <td>0</td>\n",
       "      <td>0</td>\n",
       "      <td>0</td>\n",
       "      <td>0</td>\n",
       "      <td>1</td>\n",
       "    </tr>\n",
       "    <tr>\n",
       "      <th>2000-02-11</th>\n",
       "      <td>DELL</td>\n",
       "      <td>7681.000</td>\n",
       "      <td>3538.000</td>\n",
       "      <td>11471.000</td>\n",
       "      <td>5308.000</td>\n",
       "      <td>4132.000</td>\n",
       "      <td>5452.000</td>\n",
       "      <td>2536.0000</td>\n",
       "      <td>2731.000</td>\n",
       "      <td>2575.000</td>\n",
       "      <td>...</td>\n",
       "      <td>0</td>\n",
       "      <td>0</td>\n",
       "      <td>0</td>\n",
       "      <td>0</td>\n",
       "      <td>0</td>\n",
       "      <td>0</td>\n",
       "      <td>0</td>\n",
       "      <td>0</td>\n",
       "      <td>0</td>\n",
       "      <td>1</td>\n",
       "    </tr>\n",
       "    <tr>\n",
       "      <th>2000-02-15</th>\n",
       "      <td>VAL</td>\n",
       "      <td>507.082</td>\n",
       "      <td>139.497</td>\n",
       "      <td>1094.080</td>\n",
       "      <td>402.382</td>\n",
       "      <td>27.605</td>\n",
       "      <td>221.366</td>\n",
       "      <td>43.1858</td>\n",
       "      <td>43.687</td>\n",
       "      <td>53.321</td>\n",
       "      <td>...</td>\n",
       "      <td>0</td>\n",
       "      <td>0</td>\n",
       "      <td>0</td>\n",
       "      <td>0</td>\n",
       "      <td>0</td>\n",
       "      <td>0</td>\n",
       "      <td>0</td>\n",
       "      <td>0</td>\n",
       "      <td>0</td>\n",
       "      <td>1</td>\n",
       "    </tr>\n",
       "  </tbody>\n",
       "</table>\n",
       "<p>5 rows × 733 columns</p>\n",
       "</div>"
      ],
      "text/plain": [
       "           ticker      actq       apq        atq       ceqq      cheq  \\\n",
       "date                                                                    \n",
       "2000-02-09   CSCO  7722.000   482.000  21391.000  16523.000  3968.000   \n",
       "2000-02-09    ROP   172.725    19.662    474.649    239.432     3.198   \n",
       "2000-02-10   CMOS   240.767    27.044    376.536    209.411    68.625   \n",
       "2000-02-11   DELL  7681.000  3538.000  11471.000   5308.000  4132.000   \n",
       "2000-02-15    VAL   507.082   139.497   1094.080    402.382    27.605   \n",
       "\n",
       "               cogsq     csh12q    cshfdq     cshiq  ...  sector_code_817.0  \\\n",
       "date                                                 ...                      \n",
       "2000-02-09  1422.000  3374.1250  3648.000  3445.000  ...                  0   \n",
       "2000-02-09    47.634    30.2688    31.217     0.000  ...                  0   \n",
       "2000-02-10    43.023    21.4360    23.753     0.000  ...                  0   \n",
       "2000-02-11  5452.000  2536.0000  2731.000  2575.000  ...                  0   \n",
       "2000-02-15   221.366    43.1858    43.687    53.321  ...                  0   \n",
       "\n",
       "            sector_code_822.0  sector_code_823.0  sector_code_825.0  \\\n",
       "date                                                                  \n",
       "2000-02-09                  0                  0                  0   \n",
       "2000-02-09                  0                  0                  0   \n",
       "2000-02-10                  0                  0                  0   \n",
       "2000-02-11                  0                  0                  0   \n",
       "2000-02-15                  0                  0                  0   \n",
       "\n",
       "            sector_code_830.0  sector_code_835.0  sector_code_840.0  \\\n",
       "date                                                                  \n",
       "2000-02-09                  0                  0                  0   \n",
       "2000-02-09                  0                  0                  0   \n",
       "2000-02-10                  0                  0                  0   \n",
       "2000-02-11                  0                  0                  0   \n",
       "2000-02-15                  0                  0                  0   \n",
       "\n",
       "            sector_code_845.0  sector_code_850.0  rel_performance  \n",
       "date                                                               \n",
       "2000-02-09                  0                  0               -1  \n",
       "2000-02-09                  0                  0                1  \n",
       "2000-02-10                  0                  0                1  \n",
       "2000-02-11                  0                  0                1  \n",
       "2000-02-15                  0                  0                1  \n",
       "\n",
       "[5 rows x 733 columns]"
      ]
     },
     "execution_count": 24,
     "metadata": {},
     "output_type": "execute_result"
    }
   ],
   "source": [
    "data.head()"
   ]
  },
  {
   "cell_type": "markdown",
   "metadata": {},
   "source": [
    "#### 3. Construct training data and test data\n",
    "\n",
    "Here we also keep the columns of `ticker` and `date` in the data as well, which will be needed later to compute the list of all trades predicted by the model. Since the top 10 optimal features have already been decided, adding two columns would not affect the fitted model."
   ]
  },
  {
   "cell_type": "code",
   "execution_count": 12,
   "metadata": {},
   "outputs": [],
   "source": [
    "start_dates = [pd.to_datetime('2000-01-01') + pd.DateOffset(months = 3 * i) for i in range(62)]\n",
    "end_dates = [d + pd.DateOffset(months = 36) for d in start_dates]\n",
    "\n",
    "training_frames = [data.loc[d:d+pd.DateOffset(months = 36)] for d in start_dates]\n",
    "test_frames = [data.loc[d+pd.DateOffset(months=3) : d+pd.DateOffset(months=6)] for d in end_dates]\n",
    "\n",
    "training_data = [d.reset_index().drop\n",
    "                                 (['next_period_return',\n",
    "                                   'spy_next_period_return',\n",
    "                                   'rel_performance','pred_rel_return',\n",
    "                                  'return', 'cum_ret', 'spy_cum_ret'],axis=1) for d in training_frames]\n",
    "\n",
    "test_data = [d.reset_index().drop(['next_period_return',\n",
    "                                   'spy_next_period_return',\n",
    "                                   'rel_performance','pred_rel_return',\n",
    "                                  'return', 'cum_ret', 'spy_cum_ret'],axis=1) for d in test_frames]\n",
    "\n",
    "training_labels = [d['rel_performance'].values for d in training_frames]\n",
    "validation_labels = [d['rel_performance'].values for d in test_frames]"
   ]
  },
  {
   "cell_type": "code",
   "execution_count": 13,
   "metadata": {},
   "outputs": [
    {
     "name": "stdout",
     "output_type": "stream",
     "text": [
      "00 training:  2000-02-09 2002-12-23       test:  2003-04-01 2003-07-01\n",
      "01 training:  2000-04-03 2003-04-01       test:  2003-07-01 2003-10-01\n",
      "02 training:  2000-07-03 2003-07-01       test:  2003-10-01 2003-12-30\n",
      "03 training:  2000-10-03 2003-10-01       test:  2004-01-06 2004-04-01\n",
      "04 training:  2001-01-04 2003-12-30       test:  2004-04-01 2004-07-01\n",
      "......\n",
      "57 training:  2014-04-01 2017-03-31       test:  2017-07-03 2017-09-29\n",
      "58 training:  2014-07-02 2017-06-30       test:  2017-10-02 2017-12-27\n",
      "59 training:  2014-10-02 2017-09-29       test:  2018-01-04 2018-03-29\n",
      "60 training:  2015-01-07 2017-12-27       test:  2018-04-02 2018-06-29\n",
      "61 training:  2015-04-01 2018-03-29       test:  2018-07-02 2018-10-01\n"
     ]
    }
   ],
   "source": [
    "# show the first 5 & the last 5 of learning periods\n",
    "for i in list(range(5)):\n",
    "    print((\"0\"+str(i))[-2:], \"training: \", str(training_data[i][\"date\"].min())[:10], str(training_data[i][\"date\"].max())[:10], \"     \",\n",
    "             \"test: \",str(test_data[i][\"date\"].min())[:10], str(test_data[i][\"date\"].max())[:10] )\n",
    "print(\"......\")\n",
    "for i in list(range(len(training_data)-5,len(training_data))):\n",
    "    print((\"0\"+str(i))[-2:], \"training: \", str(training_data[i][\"date\"].min())[:10], str(training_data[i][\"date\"].max())[:10], \"     \",\n",
    "             \"test: \",str(test_data[i][\"date\"].min())[:10], str(test_data[i][\"date\"].max())[:10] )"
   ]
  },
  {
   "cell_type": "markdown",
   "metadata": {},
   "source": [
    "### Random Forest Classifier"
   ]
  },
  {
   "cell_type": "markdown",
   "metadata": {},
   "source": [
    "#### 1st Set of Hyperparameters  \n",
    "\n",
    "- `max_depth = 5`\n",
    "- `min_samples_leaf = 1500`\n",
    "- `max_features = 'sqrt'`    \n",
    "- `n_estimators = 30`"
   ]
  },
  {
   "cell_type": "code",
   "execution_count": 14,
   "metadata": {},
   "outputs": [],
   "source": [
    "rf_clf = RandomForestClassifier(bootstrap=True, class_weight=None, criterion='gini',\n",
    "            max_features='sqrt', max_leaf_nodes=None,\n",
    "            min_impurity_decrease=0.0, min_impurity_split=None,\n",
    "            min_samples_leaf=1500, min_samples_split=2,\n",
    "            min_weight_fraction_leaf=0.0, n_estimators=30, max_depth=5, n_jobs=1,\n",
    "            oob_score=False, random_state=123, verbose=0, warm_start=False)"
   ]
  },
  {
   "cell_type": "code",
   "execution_count": 15,
   "metadata": {},
   "outputs": [],
   "source": [
    "P_L = []\n",
    "x = [0,1]\n",
    "ret = []\n",
    "\n",
    "for i in range(1,len(training_data)-1):\n",
    "    \n",
    "        rf_clf.fit(training_data[i][optimal_features], training_labels[i])\n",
    "        pred_i = rf_clf.predict(test_data[i][optimal_features])\n",
    "        \n",
    "        profit_i = (pred_i * test_frames[i]['next_period_return']).sum()\n",
    "        P_L.append(profit_i)\n",
    "        positions = np.sum(np.abs(pred_i))\n",
    "        \n",
    "        ret.append((1.0/positions) * profit_i)\n",
    "        x.append(x[i] + (x[i]/positions) * profit_i)"
   ]
  },
  {
   "cell_type": "code",
   "execution_count": 16,
   "metadata": {},
   "outputs": [
    {
     "data": {
      "image/png": "[encoded data removed]",
      "text/plain": [
       "<Figure size 432x288 with 1 Axes>"
      ]
     },
     "metadata": {
      "needs_background": "light"
     },
     "output_type": "display_data"
    }
   ],
   "source": [
    "SPY = pd.read_pickle('../data/SPY_cum_ret.pkl')\n",
    "SPY = SPY.loc['2003-10-01':]\n",
    "SPY = SPY.resample('Q').ffill()\n",
    "SPY['spy_cum_ret'] = (SPY['spy_cum_ret'] - SPY['spy_cum_ret'][0] + 1)\n",
    "SPY['strategy'] = x[1:]\n",
    "SPY.plot();"
   ]
  },
  {
   "cell_type": "code",
   "execution_count": 17,
   "metadata": {},
   "outputs": [
    {
     "name": "stdout",
     "output_type": "stream",
     "text": [
      "Sharpe Ratio:  0.997927726377211\n"
     ]
    }
   ],
   "source": [
    "SPY = SPY.resample('A').bfill()\n",
    "strategy_mean_ret = (SPY['strategy'] - 1).diff().mean()\n",
    "strategy_std = (SPY['strategy'] - 1).diff().std()\n",
    "strategy_sr = strategy_mean_ret/strategy_std\n",
    "print('Sharpe Ratio: ',strategy_sr)"
   ]
  },
  {
   "cell_type": "markdown",
   "metadata": {},
   "source": [
    "#### 2nd Set of Hyperparameters\n",
    "\n",
    "- `max_depth = 6`\n",
    "- `min_samples_leaf = 1600`\n",
    "- `max_features = 'sqrt'`    \n",
    "- `n_estimators = 20`"
   ]
  },
  {
   "cell_type": "code",
   "execution_count": 18,
   "metadata": {},
   "outputs": [],
   "source": [
    "rf_clf = RandomForestClassifier(bootstrap=True, class_weight=None, criterion='gini',\n",
    "             max_features='sqrt', max_leaf_nodes=None,\n",
    "            min_impurity_decrease=0.0, min_impurity_split=None,\n",
    "            min_samples_leaf=1600, min_samples_split=2,\n",
    "            min_weight_fraction_leaf=0.0, n_estimators=20, max_depth=6, n_jobs=1,\n",
    "            oob_score=False, random_state=123, verbose=0, warm_start=False)"
   ]
  },
  {
   "cell_type": "code",
   "execution_count": 19,
   "metadata": {},
   "outputs": [],
   "source": [
    "P_L = []\n",
    "x = [0,1]\n",
    "ret = []\n",
    "\n",
    "for i in range(1,len(training_data)-1):\n",
    "    \n",
    "        rf_clf.fit(training_data[i][optimal_features],training_labels[i])\n",
    "        pred_i = rf_clf.predict(test_data[i][optimal_features])\n",
    "        \n",
    "        profit_i = (pred_i * test_frames[i]['next_period_return']).sum()\n",
    "        P_L.append(profit_i)\n",
    "        positions = np.sum(np.abs(pred_i))\n",
    "        \n",
    "        ret.append((1.0/positions) * profit_i)\n",
    "        x.append(x[i] + (x[i]/positions) * profit_i)"
   ]
  },
  {
   "cell_type": "code",
   "execution_count": 20,
   "metadata": {},
   "outputs": [
    {
     "data": {
      "image/png": "[encoded data removed]",
      "text/plain": [
       "<Figure size 432x288 with 1 Axes>"
      ]
     },
     "metadata": {
      "needs_background": "light"
     },
     "output_type": "display_data"
    }
   ],
   "source": [
    "SPY = pd.read_pickle('../data/SPY_cum_ret.pkl')\n",
    "SPY = SPY.loc['2003-10-01':]\n",
    "SPY = SPY.resample('Q').ffill()\n",
    "SPY['spy_cum_ret'] = (SPY['spy_cum_ret'] - SPY['spy_cum_ret'][0] + 1)\n",
    "SPY['strategy'] = x[1:]\n",
    "SPY.plot();"
   ]
  },
  {
   "cell_type": "code",
   "execution_count": 21,
   "metadata": {},
   "outputs": [
    {
     "name": "stdout",
     "output_type": "stream",
     "text": [
      "Sharpe Ratio:  1.0215651570056483\n"
     ]
    }
   ],
   "source": [
    "SPY = SPY.resample('A').bfill()\n",
    "strategy_mean_ret = (SPY['strategy'] - 1).diff().mean()\n",
    "strategy_std = (SPY['strategy'] - 1).diff().std()\n",
    "strategy_sr = strategy_mean_ret/strategy_std\n",
    "print('Sharpe Ratio: ', strategy_sr)"
   ]
  },
  {
   "cell_type": "markdown",
   "metadata": {},
   "source": [
    "#### 3rd Set of Hyperparameters \n",
    "\n",
    "- `max_depth = 4`\n",
    "- `min_samples_leaf = 1200`\n",
    "- `max_features = 'sqrt'`    \n",
    "- `n_estimators = 40`"
   ]
  },
  {
   "cell_type": "code",
   "execution_count": 22,
   "metadata": {},
   "outputs": [],
   "source": [
    "rf_clf = RandomForestClassifier(bootstrap=True, class_weight=None, criterion='gini',\n",
    "             max_features='sqrt', max_leaf_nodes=None,\n",
    "            min_impurity_decrease=0.0, min_impurity_split=None,\n",
    "            min_samples_leaf=1200, min_samples_split=2,\n",
    "            min_weight_fraction_leaf=0.0, n_estimators=40, max_depth=4, n_jobs=1,\n",
    "            oob_score=False, random_state=123, verbose=0, warm_start=False)"
   ]
  },
  {
   "cell_type": "code",
   "execution_count": 23,
   "metadata": {},
   "outputs": [],
   "source": [
    "P_L = []\n",
    "x = [0,1]\n",
    "ret = []\n",
    "\n",
    "for i in range(1,len(training_data)-1):\n",
    "    \n",
    "        rf_clf.fit(training_data[i][optimal_features],training_labels[i])\n",
    "        pred_i = rf_clf.predict(test_data[i][optimal_features])\n",
    "        \n",
    "        profit_i = (pred_i * test_frames[i]['next_period_return']).sum()\n",
    "        P_L.append(profit_i)\n",
    "        positions = np.sum(np.abs(pred_i))\n",
    "        \n",
    "        ret.append((1.0/positions) * profit_i)\n",
    "        x.append(x[i] + (x[i]/positions) * profit_i)"
   ]
  },
  {
   "cell_type": "code",
   "execution_count": 24,
   "metadata": {},
   "outputs": [
    {
     "data": {
      "image/png": "[encoded data removed]",
      "text/plain": [
       "<Figure size 432x288 with 1 Axes>"
      ]
     },
     "metadata": {
      "needs_background": "light"
     },
     "output_type": "display_data"
    }
   ],
   "source": [
    "SPY = pd.read_pickle('../data/SPY_cum_ret.pkl')\n",
    "SPY = SPY.loc['2003-10-01':]\n",
    "SPY = SPY.resample('Q').ffill()\n",
    "SPY['spy_cum_ret'] = (SPY['spy_cum_ret'] - SPY['spy_cum_ret'][0] + 1)\n",
    "SPY['strategy'] = x[1:]\n",
    "SPY.plot();"
   ]
  },
  {
   "cell_type": "code",
   "execution_count": 25,
   "metadata": {},
   "outputs": [
    {
     "name": "stdout",
     "output_type": "stream",
     "text": [
      "Sharpe Ratio:  1.0711487109453355\n"
     ]
    }
   ],
   "source": [
    "SPY = SPY.resample('A').bfill()\n",
    "strategy_mean_ret = (SPY['strategy'] - 1).diff().mean()\n",
    "strategy_std = (SPY['strategy'] - 1).diff().std()\n",
    "strategy_sr = strategy_mean_ret/strategy_std\n",
    "print('Sharpe Ratio: ',strategy_sr)"
   ]
  },
  {
   "cell_type": "markdown",
   "metadata": {},
   "source": [
    "#### Result: the best set of hyperparameters for Random Forest Classifier\n",
    "\n",
    "- `max_depth = 4`\n",
    "- `min_samples_leaf = 1200`\n",
    "- `max_features = 'sqrt'`    \n",
    "- `n_estimators = 40`\n",
    "\n",
    "This set of hyperparameters provides the largest Sharpe Ratio: 1.0711487109453355"
   ]
  },
  {
   "cell_type": "markdown",
   "metadata": {},
   "source": [
    "### AdaBoosting Classifier"
   ]
  },
  {
   "cell_type": "markdown",
   "metadata": {},
   "source": [
    "#### 1st Set of Hyperparameters\n",
    "  \n",
    "- `max_depth = 4`\n",
    "- `n_estimators = 50`\n",
    "- `learning_rate = 0.4`"
   ]
  },
  {
   "cell_type": "code",
   "execution_count": 26,
   "metadata": {},
   "outputs": [],
   "source": [
    "ada_clf = AdaBoostClassifier(DecisionTreeClassifier(max_depth=4),n_estimators=50,learning_rate=0.4,algorithm=\"SAMME.R\")"
   ]
  },
  {
   "cell_type": "code",
   "execution_count": 27,
   "metadata": {},
   "outputs": [],
   "source": [
    "P_L = []\n",
    "x = [0,1]\n",
    "ret = []\n",
    "\n",
    "for i in range(1,len(training_data)-1):\n",
    "    \n",
    "    ada_clf.fit(training_data[i][optimal_features],training_labels[i])\n",
    "    pred_i = ada_clf.predict(test_data[i][optimal_features])\n",
    "        \n",
    "    profit_i = (pred_i * test_frames[i]['next_period_return']).sum()\n",
    "    P_L.append(profit_i)\n",
    "    positions = np.sum(np.abs(pred_i))\n",
    "        \n",
    "    ret.append((1.0/positions) * profit_i)\n",
    "    x.append(x[i] + (x[i]/positions) * profit_i)"
   ]
  },
  {
   "cell_type": "code",
   "execution_count": 28,
   "metadata": {},
   "outputs": [
    {
     "data": {
      "image/png": "[encoded data removed]",
      "text/plain": [
       "<Figure size 432x288 with 1 Axes>"
      ]
     },
     "metadata": {
      "needs_background": "light"
     },
     "output_type": "display_data"
    }
   ],
   "source": [
    "SPY = pd.read_pickle('../data/SPY_cum_ret.pkl')\n",
    "SPY = SPY.loc['2003-10-01':]\n",
    "SPY = SPY.resample('Q').ffill()\n",
    "SPY['spy_cum_ret'] = (SPY['spy_cum_ret'] - SPY['spy_cum_ret'][0] + 1)\n",
    "SPY['strategy'] = x[1:]\n",
    "SPY.plot();"
   ]
  },
  {
   "cell_type": "code",
   "execution_count": 29,
   "metadata": {},
   "outputs": [
    {
     "name": "stdout",
     "output_type": "stream",
     "text": [
      "Sharpe Ratio:  1.2578868969340766\n"
     ]
    }
   ],
   "source": [
    "SPY = SPY.resample('A').bfill()\n",
    "strategy_mean_ret = (SPY['strategy'] - 1).diff().mean()\n",
    "strategy_std = (SPY['strategy'] - 1).diff().std()\n",
    "strategy_sr = strategy_mean_ret/strategy_std\n",
    "print('Sharpe Ratio: ',strategy_sr)"
   ]
  },
  {
   "cell_type": "markdown",
   "metadata": {},
   "source": [
    "#### 2nd Set of Hyperparameters\n",
    "  \n",
    "- `max_depth = 5`\n",
    "- `n_estimators= 40`\n",
    "- `learning_rate = 0.5`"
   ]
  },
  {
   "cell_type": "code",
   "execution_count": 30,
   "metadata": {},
   "outputs": [],
   "source": [
    "ada_clf = AdaBoostClassifier(DecisionTreeClassifier(max_depth=5),n_estimators=40,learning_rate=0.5,algorithm=\"SAMME.R\")"
   ]
  },
  {
   "cell_type": "code",
   "execution_count": 31,
   "metadata": {},
   "outputs": [],
   "source": [
    "P_L = []\n",
    "x = [0,1]\n",
    "ret = []\n",
    "\n",
    "for i in range(1,len(training_data)-1):\n",
    "    \n",
    "    ada_clf.fit(training_data[i][optimal_features],training_labels[i])\n",
    "    pred_i = ada_clf.predict(test_data[i][optimal_features])\n",
    "        \n",
    "    profit_i = (pred_i * test_frames[i]['next_period_return']).sum()\n",
    "    P_L.append(profit_i)\n",
    "    positions = np.sum(np.abs(pred_i))\n",
    "        \n",
    "    ret.append((1.0/positions) * profit_i)\n",
    "    x.append(x[i] + (x[i]/positions) * profit_i)"
   ]
  },
  {
   "cell_type": "code",
   "execution_count": 32,
   "metadata": {},
   "outputs": [
    {
     "data": {
      "image/png": "[encoded data removed]",
      "text/plain": [
       "<Figure size 432x288 with 1 Axes>"
      ]
     },
     "metadata": {
      "needs_background": "light"
     },
     "output_type": "display_data"
    }
   ],
   "source": [
    "SPY = pd.read_pickle('../data/SPY_cum_ret.pkl')\n",
    "SPY = SPY.loc['2003-10-01':]\n",
    "SPY = SPY.resample('Q').ffill()\n",
    "SPY['spy_cum_ret'] = (SPY['spy_cum_ret'] - SPY['spy_cum_ret'][0] + 1)\n",
    "SPY['strategy'] = x[1:]\n",
    "SPY.plot();"
   ]
  },
  {
   "cell_type": "code",
   "execution_count": 33,
   "metadata": {},
   "outputs": [
    {
     "name": "stdout",
     "output_type": "stream",
     "text": [
      "Sharpe Ratio:  1.7148962691675238\n"
     ]
    }
   ],
   "source": [
    "SPY = SPY.resample('A').bfill()\n",
    "strategy_mean_ret = (SPY['strategy'] - 1).diff().mean()\n",
    "strategy_std = (SPY['strategy'] - 1).diff().std()\n",
    "strategy_sr = strategy_mean_ret/strategy_std\n",
    "print('Sharpe Ratio: ',strategy_sr)"
   ]
  },
  {
   "cell_type": "markdown",
   "metadata": {},
   "source": [
    "#### 3rd Set of Hyperparameters\n",
    "  \n",
    "- `max_depth = 6`\n",
    "- `n_estimators= 30`\n",
    "- `learning_rate = 0.6`"
   ]
  },
  {
   "cell_type": "code",
   "execution_count": 34,
   "metadata": {},
   "outputs": [],
   "source": [
    "ada_clf = AdaBoostClassifier(DecisionTreeClassifier(max_depth=6),n_estimators=30,learning_rate=0.6,algorithm=\"SAMME.R\")"
   ]
  },
  {
   "cell_type": "code",
   "execution_count": 35,
   "metadata": {},
   "outputs": [],
   "source": [
    "P_L = []\n",
    "x = [0,1]\n",
    "ret = []\n",
    "\n",
    "for i in range(1,len(training_data)-1):\n",
    "    \n",
    "    ada_clf.fit(training_data[i][optimal_features],training_labels[i])\n",
    "    pred_i = ada_clf.predict(test_data[i][optimal_features])\n",
    "        \n",
    "    profit_i = (pred_i * test_frames[i]['next_period_return']).sum()\n",
    "    P_L.append(profit_i)\n",
    "    positions = np.sum(np.abs(pred_i))\n",
    "        \n",
    "    ret.append((1.0/positions) * profit_i)\n",
    "    x.append(x[i] + (x[i]/positions) * profit_i)"
   ]
  },
  {
   "cell_type": "code",
   "execution_count": 36,
   "metadata": {},
   "outputs": [
    {
     "data": {
      "image/png": "[encoded data removed]",
      "text/plain": [
       "<Figure size 432x288 with 1 Axes>"
      ]
     },
     "metadata": {
      "needs_background": "light"
     },
     "output_type": "display_data"
    }
   ],
   "source": [
    "SPY = pd.read_pickle('../data/SPY_cum_ret.pkl')\n",
    "SPY = SPY.loc['2003-10-01':]\n",
    "SPY = SPY.resample('Q').ffill()\n",
    "SPY['spy_cum_ret'] = (SPY['spy_cum_ret'] - SPY['spy_cum_ret'][0] + 1)\n",
    "SPY['strategy'] = x[1:]\n",
    "SPY.plot();"
   ]
  },
  {
   "cell_type": "code",
   "execution_count": 37,
   "metadata": {},
   "outputs": [
    {
     "name": "stdout",
     "output_type": "stream",
     "text": [
      "Sharpe Ratio:  1.6915208938762503\n"
     ]
    }
   ],
   "source": [
    "SPY = SPY.resample('A').bfill()\n",
    "strategy_mean_ret = (SPY['strategy'] - 1).diff().mean()\n",
    "strategy_std = (SPY['strategy'] - 1).diff().std()\n",
    "strategy_sr = strategy_mean_ret/strategy_std\n",
    "print('Sharpe Ratio: ',strategy_sr)"
   ]
  },
  {
   "cell_type": "markdown",
   "metadata": {},
   "source": [
    "#### Result: the best set of hyperparameters for AdaBoosting Classifier\n",
    "\n",
    "- `max_depth = 5`\n",
    "- `n_estimators= 40`\n",
    "- `learning_rate = 0.5`\n",
    "\n",
    "This set of hyperparameters provides the largest Sharpe Ratio: 1.7148962691675238"
   ]
  },
  {
   "cell_type": "markdown",
   "metadata": {},
   "source": [
    "### Gradient Boosting Classifier"
   ]
  },
  {
   "cell_type": "markdown",
   "metadata": {},
   "source": [
    "#### 1st Set of Hyperparameters\n",
    "  \n",
    "- `max_depth = 4`\n",
    "- `min_data_in_leaf = 1500`\n",
    "- `num_leaves = 10`\n",
    "- `n_estimators= 400`\n",
    "- `reg_lambda = 0.5`\n",
    "- `learning_rate = 0.1`"
   ]
  },
  {
   "cell_type": "code",
   "execution_count": 38,
   "metadata": {},
   "outputs": [],
   "source": [
    "gb_clf = lgb.LGBMClassifier(max_depth=4,n_estimators=400,objective='multi_class',min_data_in_leaf=1500,\n",
    "                            reg_lambda=0.5,num_leaves=10,learning_rate=0.1)"
   ]
  },
  {
   "cell_type": "code",
   "execution_count": 39,
   "metadata": {},
   "outputs": [],
   "source": [
    "P_L = []\n",
    "x = [0,1]\n",
    "ret = []\n",
    "\n",
    "for i in range(1,len(training_data)-1):\n",
    "    \n",
    "        gb_clf.fit(training_data[i][optimal_features],training_labels[i])\n",
    "        pred_i = gb_clf.predict(test_data[i][optimal_features])\n",
    "        \n",
    "        profit_i = (pred_i * test_frames[i]['next_period_return']).sum()\n",
    "        P_L.append(profit_i)\n",
    "        positions = np.sum(np.abs(pred_i))\n",
    "        \n",
    "        ret.append((1.0/positions) * profit_i)\n",
    "        x.append(x[i] + (x[i]/positions) * profit_i)"
   ]
  },
  {
   "cell_type": "code",
   "execution_count": 40,
   "metadata": {},
   "outputs": [
    {
     "data": {
      "image/png": "[encoded data removed]",
      "text/plain": [
       "<Figure size 432x288 with 1 Axes>"
      ]
     },
     "metadata": {
      "needs_background": "light"
     },
     "output_type": "display_data"
    }
   ],
   "source": [
    "SPY = pd.read_pickle('../data/SPY_cum_ret.pkl')\n",
    "SPY = SPY.loc['2003-10-01':]\n",
    "SPY = SPY.resample('Q').ffill()\n",
    "SPY['spy_cum_ret'] = (SPY['spy_cum_ret'] - SPY['spy_cum_ret'][0] + 1)\n",
    "SPY['strategy'] = x[1:]\n",
    "SPY.plot();"
   ]
  },
  {
   "cell_type": "code",
   "execution_count": 41,
   "metadata": {},
   "outputs": [
    {
     "name": "stdout",
     "output_type": "stream",
     "text": [
      "Sharpe Ratio:  1.6362702641893363\n"
     ]
    }
   ],
   "source": [
    "SPY = SPY.resample('A').bfill()\n",
    "strategy_mean_ret = (SPY['strategy'] - 1).diff().mean()\n",
    "strategy_std = (SPY['strategy'] - 1).diff().std()\n",
    "strategy_sr = strategy_mean_ret/strategy_std\n",
    "print('Sharpe Ratio: ',strategy_sr)"
   ]
  },
  {
   "cell_type": "markdown",
   "metadata": {},
   "source": [
    "#### 2nd Set of Hyperparameters\n",
    "  \n",
    "- `max_depth = 5`\n",
    "- `min_data_in_leaf = 1800`\n",
    "- `num_leaves = 15`\n",
    "- `n_estimators= 400`\n",
    "- `reg_lambda = 0.5`\n",
    "- `learning_rate = 0.2`"
   ]
  },
  {
   "cell_type": "code",
   "execution_count": 42,
   "metadata": {},
   "outputs": [],
   "source": [
    "gb_clf = lgb.LGBMClassifier(max_depth=5,n_estimators=400,objective='multi_class',min_data_in_leaf=1800,\n",
    "                            reg_lambda=0.5,num_leaves=15,learning_rate=0.2)"
   ]
  },
  {
   "cell_type": "code",
   "execution_count": 43,
   "metadata": {},
   "outputs": [],
   "source": [
    "P_L = []\n",
    "x = [0,1]\n",
    "ret = []\n",
    "\n",
    "for i in range(1,len(training_data)-1):\n",
    "    \n",
    "        gb_clf.fit(training_data[i][optimal_features],training_labels[i])\n",
    "        pred_i = gb_clf.predict(test_data[i][optimal_features])\n",
    "        \n",
    "        profit_i = (pred_i * test_frames[i]['next_period_return']).sum()\n",
    "        P_L.append(profit_i)\n",
    "        positions = np.sum(np.abs(pred_i))\n",
    "        \n",
    "        ret.append((1.0/positions) * profit_i)\n",
    "        x.append(x[i] + (x[i]/positions) * profit_i)"
   ]
  },
  {
   "cell_type": "code",
   "execution_count": 44,
   "metadata": {},
   "outputs": [
    {
     "data": {
      "image/png": "[encoded data removed]",
      "text/plain": [
       "<Figure size 432x288 with 1 Axes>"
      ]
     },
     "metadata": {
      "needs_background": "light"
     },
     "output_type": "display_data"
    }
   ],
   "source": [
    "SPY = pd.read_pickle('../data/SPY_cum_ret.pkl')\n",
    "SPY = SPY.loc['2003-10-01':]\n",
    "SPY = SPY.resample('Q').ffill()\n",
    "SPY['spy_cum_ret'] = (SPY['spy_cum_ret'] - SPY['spy_cum_ret'][0] + 1)\n",
    "SPY['strategy'] = x[1:]\n",
    "SPY.plot();"
   ]
  },
  {
   "cell_type": "code",
   "execution_count": 45,
   "metadata": {},
   "outputs": [
    {
     "name": "stdout",
     "output_type": "stream",
     "text": [
      "Sharpe Ratio:  1.6252620401673017\n"
     ]
    }
   ],
   "source": [
    "SPY = SPY.resample('A').bfill()\n",
    "strategy_mean_ret = (SPY['strategy'] - 1).diff().mean()\n",
    "strategy_std = (SPY['strategy'] - 1).diff().std()\n",
    "strategy_sr = strategy_mean_ret/strategy_std\n",
    "print('Sharpe Ratio: ',strategy_sr)"
   ]
  },
  {
   "cell_type": "markdown",
   "metadata": {},
   "source": [
    "#### 3rd Set of Hyperparameters\n",
    "  \n",
    "- `max_depth = 6`\n",
    "- `min_data_in_leaf = 2100`\n",
    "- `num_leaves = 20`\n",
    "- `n_estimators= 400`\n",
    "- `reg_lambda = 0.5`\n",
    "- `learning_rate = 0.3`"
   ]
  },
  {
   "cell_type": "code",
   "execution_count": 46,
   "metadata": {},
   "outputs": [],
   "source": [
    "gb_clf = lgb.LGBMClassifier(max_depth=6,n_estimators=400,objective='multi_class',min_data_in_leaf=2100,\n",
    "                            reg_lambda=0.5,num_leaves=20,learning_rate=0.3)"
   ]
  },
  {
   "cell_type": "code",
   "execution_count": 47,
   "metadata": {},
   "outputs": [],
   "source": [
    "P_L = []\n",
    "x = [0,1]\n",
    "ret = []\n",
    "\n",
    "for i in range(1,len(training_data)-1):\n",
    "    \n",
    "        gb_clf.fit(training_data[i][optimal_features],training_labels[i])\n",
    "        pred_i = gb_clf.predict(test_data[i][optimal_features])\n",
    "        \n",
    "        profit_i = (pred_i * test_frames[i]['next_period_return']).sum()\n",
    "        P_L.append(profit_i)\n",
    "        positions = np.sum(np.abs(pred_i))\n",
    "        \n",
    "        ret.append((1.0/positions) * profit_i)\n",
    "        x.append(x[i] + (x[i]/positions) * profit_i)"
   ]
  },
  {
   "cell_type": "code",
   "execution_count": 48,
   "metadata": {},
   "outputs": [
    {
     "data": {
      "image/png": "[encoded data removed]",
      "text/plain": [
       "<Figure size 432x288 with 1 Axes>"
      ]
     },
     "metadata": {
      "needs_background": "light"
     },
     "output_type": "display_data"
    }
   ],
   "source": [
    "SPY = pd.read_pickle('../data/SPY_cum_ret.pkl')\n",
    "SPY = SPY.loc['2003-10-01':]\n",
    "SPY = SPY.resample('Q').ffill()\n",
    "SPY['spy_cum_ret'] = (SPY['spy_cum_ret'] - SPY['spy_cum_ret'][0] + 1)\n",
    "SPY['strategy'] = x[1:]\n",
    "SPY.plot();"
   ]
  },
  {
   "cell_type": "code",
   "execution_count": 49,
   "metadata": {},
   "outputs": [
    {
     "name": "stdout",
     "output_type": "stream",
     "text": [
      "Sharpe Ratio:  1.6190976842648315\n"
     ]
    }
   ],
   "source": [
    "SPY = SPY.resample('A').bfill()\n",
    "strategy_mean_ret = (SPY['strategy'] - 1).diff().mean()\n",
    "strategy_std = (SPY['strategy'] - 1).diff().std()\n",
    "strategy_sr = strategy_mean_ret/strategy_std\n",
    "print('Sharpe Ratio: ',strategy_sr)"
   ]
  },
  {
   "cell_type": "markdown",
   "metadata": {},
   "source": [
    "#### Result: the best set of hyperparameters for Gradient Boosting Classifier\n",
    "\n",
    "- `max_depth = 4`\n",
    "- `min_data_in_leaf = 1500`\n",
    "- `num_leaves = 10`\n",
    "- `n_estimators= 400`\n",
    "- `reg_lambda = 0.5`\n",
    "- `learning_rate = 0.1`\n",
    "\n",
    "This set of hyperparameters provides the largest Sharpe Ratio: 1.6362702641893363"
   ]
  },
  {
   "cell_type": "markdown",
   "metadata": {},
   "source": [
    "## Part 3: Fit a Voting Classifier\n",
    "\n",
    "Use the best set of hyperparameters you found for each of three basis classifier above and the 10 optimal features to make a Voting Classifier. Then run a back test for this Voting Classifier, and computes Sharpe Ratio, Information Ration, alpha $\\alpha$ and Max Drawdown."
   ]
  },
  {
   "cell_type": "markdown",
   "metadata": {},
   "source": [
    "### 1. Build and Fit a Voting Classifier\n",
    "\n",
    "- Set up three basis classifiers: Random Forest, AdaBoosting, Gradient Boosting, using the corresponding best set of hyperparamters chosen above for each basis classifier\n",
    "- Based on these three basis classifiers, use the above 10 optimal features to make a Voting Classifier "
   ]
  },
  {
   "cell_type": "code",
   "execution_count": 50,
   "metadata": {},
   "outputs": [],
   "source": [
    "rf_clf = RandomForestClassifier(bootstrap=True, class_weight=None, criterion='gini',\n",
    "            max_features='sqrt', max_leaf_nodes=None,\n",
    "            min_impurity_decrease=0.0, min_impurity_split=None,\n",
    "            min_samples_leaf=1200, min_samples_split=2,\n",
    "            min_weight_fraction_leaf=0.0, n_estimators=40, max_depth=4, n_jobs=1,\n",
    "            oob_score=False, random_state=123, verbose=0, warm_start=False)"
   ]
  },
  {
   "cell_type": "code",
   "execution_count": 51,
   "metadata": {},
   "outputs": [],
   "source": [
    "ada_clf = AdaBoostClassifier(DecisionTreeClassifier(max_depth=5),n_estimators=40,learning_rate=0.5,algorithm=\"SAMME.R\")"
   ]
  },
  {
   "cell_type": "code",
   "execution_count": 52,
   "metadata": {},
   "outputs": [],
   "source": [
    "gb_clf = lgb.LGBMClassifier(max_depth=4,n_estimators=400,objective='multi_class',min_data_in_leaf=1500,\n",
    "                            reg_lambda=0.5,num_leaves=10,learning_rate=0.1)"
   ]
  },
  {
   "cell_type": "code",
   "execution_count": 53,
   "metadata": {},
   "outputs": [],
   "source": [
    "v_clf = VotingClassifier(estimators=[('rf', rf_clf), ('ada', ada_clf), ('gb', gb_clf)], voting='hard')"
   ]
  },
  {
   "cell_type": "code",
   "execution_count": 54,
   "metadata": {},
   "outputs": [],
   "source": [
    "P_L = []\n",
    "x = [0,1]\n",
    "ret = []\n",
    "preds = []\n",
    "\n",
    "for i in range(1,len(training_data)-1):\n",
    "    \n",
    "        v_clf.fit(training_data[i][optimal_features],training_labels[i])\n",
    "        pred_i = v_clf.predict(test_data[i][optimal_features])\n",
    "        \n",
    "        preds.append(pred_i)   # prediction from the Voting Classifier for each stock\n",
    "        \n",
    "        profit_i = (pred_i * test_frames[i]['next_period_return']).sum()\n",
    "        P_L.append(profit_i)\n",
    "        positions = np.sum(np.abs(pred_i))\n",
    "        \n",
    "        ret.append((1.0/positions) * profit_i)\n",
    "        x.append(x[i] + (x[i]/positions) * profit_i)"
   ]
  },
  {
   "cell_type": "markdown",
   "metadata": {},
   "source": [
    "Here we also stored the predictions from the Voting Classifier for each stock in the testing period to compute the list of all traders predicted by the model in the next Part."
   ]
  },
  {
   "cell_type": "markdown",
   "metadata": {},
   "source": [
    "### 2. Model Performance Results: Total P/L, Sharpe Ratio, Information Ratio, Alpha $\\alpha$, Max Drawdown\n",
    "\n",
    "Run a back test for this Voting Classifier, and computes the Sharpe Ratio, Information Ration, alpha $\\alpha$ and Max Drawdown."
   ]
  },
  {
   "cell_type": "code",
   "execution_count": 55,
   "metadata": {},
   "outputs": [
    {
     "data": {
      "image/png": "[encoded data removed]",
      "text/plain": [
       "<Figure size 432x288 with 1 Axes>"
      ]
     },
     "metadata": {
      "needs_background": "light"
     },
     "output_type": "display_data"
    }
   ],
   "source": [
    "SPY = pd.read_pickle('../data/SPY_cum_ret.pkl')\n",
    "SPY = SPY.loc['2003-10-01':]\n",
    "SPY = SPY.resample('Q').ffill()\n",
    "SPY['spy_cum_ret'] = (SPY['spy_cum_ret'] - SPY['spy_cum_ret'][0] + 1)\n",
    "SPY['strategy'] = x[1:]\n",
    "SPY.plot();"
   ]
  },
  {
   "cell_type": "code",
   "execution_count": 56,
   "metadata": {},
   "outputs": [],
   "source": [
    "def max_drawdown(returns):\n",
    "        local_max = [n for n in range(len(returns)-1) if ((n==0) and (returns[0] > returns[1])) or \n",
    "           ((n > 0) and  (returns[n-1]<returns[n]) and (returns[n+1]<returns[n]))] \n",
    "\n",
    "        local_min = [n for n in range(1,len(returns)) if ((n == len(returns)-1) and (returns[-1] < returns[-2])) or\n",
    "                (returns[n-1]>returns[n]) and (returns[n+1]>returns[n])]\n",
    "\n",
    "        def next_local_min(n):\n",
    "            if [m for m in local_min if m > n]:\n",
    "                return [m for m in local_min if m > n][0]\n",
    "            else: return None\n",
    "\n",
    "        drawdowns = [(n,next_local_min(n)) for n in local_max]\n",
    "        drawdown_values = [returns[n] - returns[m] for (n,m) in drawdowns if m != None]\n",
    "        if drawdown_values:\n",
    "            return  np.max(drawdown_values)\n",
    "        else: return 0.0"
   ]
  },
  {
   "cell_type": "code",
   "execution_count": 58,
   "metadata": {},
   "outputs": [],
   "source": [
    "def max_dd(returns):\n",
    "    i = np.argmax(np.maximum.accumulate(returns) - returns)\n",
    "    j = np.argmax(returns[:i])\n",
    "    plt.plot(returns);\n",
    "    plt.plot([i, j], [returns[i], returns[j]], 'o', color='Red', markersize=10)\n",
    "    return np.abs(returns[j] - returns[i])"
   ]
  },
  {
   "cell_type": "code",
   "execution_count": 59,
   "metadata": {},
   "outputs": [
    {
     "name": "stdout",
     "output_type": "stream",
     "text": [
      "Total P/L:  4.132873740636822\n",
      "Sharpe Ratio:  1.3926980297737317\n",
      "Information Ratio: 1.2949462404339067\n",
      "Alpha: 0.1752940717803241\n",
      "Max Drawdown: 0.10663920665432225\n"
     ]
    },
    {
     "name": "stderr",
     "output_type": "stream",
     "text": [
      "C:\\Users\\Gulishana\\Anaconda3\\lib\\site-packages\\numpy\\core\\fromnumeric.py:56: FutureWarning: \n",
      "The current behaviour of 'Series.argmax' is deprecated, use 'idxmax'\n",
      "instead.\n",
      "The behavior of 'argmax' will be corrected to return the positional\n",
      "maximum in the future. For now, use 'series.values.argmax' or\n",
      "'np.argmax(np.array(values))' to get the position of the maximum\n",
      "row.\n",
      "  return getattr(obj, method)(*args, **kwds)\n"
     ]
    },
    {
     "data": {
      "text/plain": [
       "0.10663920665432225"
      ]
     },
     "execution_count": 59,
     "metadata": {},
     "output_type": "execute_result"
    },
    {
     "data": {
      "image/png": "[encoded data removed]",
      "text/plain": [
       "<Figure size 432x288 with 1 Axes>"
      ]
     },
     "metadata": {
      "needs_background": "light"
     },
     "output_type": "display_data"
    }
   ],
   "source": [
    "# Total P/L\n",
    "print(\"Total P/L: \", x[-1])  # how much dollars will 1 dollar become\n",
    "\n",
    "# Sharpe Ratio\n",
    "SPY = SPY.resample('A').bfill()\n",
    "strategy_mean_ret = (SPY['strategy'] - 1).diff().mean()\n",
    "strategy_std = (SPY['strategy'] - 1).diff().std()\n",
    "strategy_sr = strategy_mean_ret/strategy_std\n",
    "print('Sharpe Ratio: ',strategy_sr)\n",
    "\n",
    "# Information Ratio\n",
    "strategy_ret = (SPY['strategy'] - 1).diff().values[1:]\n",
    "spy_ret = (SPY['spy_cum_ret'] - 1).diff().values[1:]\n",
    "beta = (np.cov(spy_ret,strategy_ret)/np.var(spy_ret))[1,0]\n",
    "residual_ret = strategy_ret - beta * spy_ret\n",
    "IR = np.mean(residual_ret)/np.std(residual_ret)\n",
    "print('Information Ratio:',IR)\n",
    "\n",
    "# alpha\n",
    "alpha = np.mean(residual_ret)\n",
    "print('Alpha:',alpha)\n",
    "\n",
    "# Max Drawdown\n",
    "print(\"Max Drawdown:\", max_drawdown(SPY['strategy']) )\n",
    "max_dd(SPY['strategy'])"
   ]
  },
  {
   "cell_type": "markdown",
   "metadata": {},
   "source": [
    "**Model Performance Results of the Voting Classifier**:\n",
    "\n",
    "- `Total P/L = 4.132873740636822`\n",
    "- `Sharpe Ratio = 1.3926980297737317`\n",
    "- `Information Ratio = 1.2949462404339067`\n",
    "- `Alpha = 0.1752940717803241`\n",
    "- `Max Drawdown = 0.10663920665432225`"
   ]
  },
  {
   "cell_type": "markdown",
   "metadata": {},
   "source": [
    "## Part 4: List of All Trades"
   ]
  },
  {
   "cell_type": "markdown",
   "metadata": {},
   "source": [
    "### 1. Compute the list of all trades in one selected quarter predicted by the model"
   ]
  },
  {
   "cell_type": "markdown",
   "metadata": {},
   "source": [
    "- Pick a quarter from the period 2000-2018.\n",
    "- For each trading day in the quarter period (i.e. the day after an earnings release) compute the prediction from the Voting Classifier for each stock (with market cap > 1B) in the data set which can be traded on this date.\n",
    "- Compute the list of all trades predicted by the model."
   ]
  },
  {
   "cell_type": "code",
   "execution_count": 60,
   "metadata": {},
   "outputs": [
    {
     "name": "stdout",
     "output_type": "stream",
     "text": [
      "Quarter (in test data):   2013-04-01  to  2013-07-01\n"
     ]
    }
   ],
   "source": [
    "i = 40\n",
    "print(\"Quarter (in test data):  \",str(test_data[i][\"date\"].min())[:10],\" to \",str(test_data[i][\"date\"].max())[:10] )"
   ]
  },
  {
   "cell_type": "code",
   "execution_count": 61,
   "metadata": {},
   "outputs": [],
   "source": [
    "# len(test_data), len(preds)"
   ]
  },
  {
   "cell_type": "code",
   "execution_count": 62,
   "metadata": {},
   "outputs": [],
   "source": [
    "# pd.DataFrame(test_data[i][['ticker','date']]).shape"
   ]
  },
  {
   "cell_type": "code",
   "execution_count": 63,
   "metadata": {},
   "outputs": [
    {
     "data": {
      "text/html": [
       "<div>\n",
       "<style scoped>\n",
       "    .dataframe tbody tr th:only-of-type {\n",
       "        vertical-align: middle;\n",
       "    }\n",
       "\n",
       "    .dataframe tbody tr th {\n",
       "        vertical-align: top;\n",
       "    }\n",
       "\n",
       "    .dataframe thead th {\n",
       "        text-align: right;\n",
       "    }\n",
       "</style>\n",
       "<table border=\"1\" class=\"dataframe\">\n",
       "  <thead>\n",
       "    <tr style=\"text-align: right;\">\n",
       "      <th></th>\n",
       "      <th>ticker</th>\n",
       "      <th>prediction</th>\n",
       "      <th>earnings_date</th>\n",
       "    </tr>\n",
       "    <tr>\n",
       "      <th>trading_date</th>\n",
       "      <th></th>\n",
       "      <th></th>\n",
       "      <th></th>\n",
       "    </tr>\n",
       "  </thead>\n",
       "  <tbody>\n",
       "    <tr>\n",
       "      <td>2013-04-01</td>\n",
       "      <td>KYAK</td>\n",
       "      <td>1</td>\n",
       "      <td>2013-03-29</td>\n",
       "    </tr>\n",
       "    <tr>\n",
       "      <td>2013-04-02</td>\n",
       "      <td>ACH</td>\n",
       "      <td>-1</td>\n",
       "      <td>2013-04-01</td>\n",
       "    </tr>\n",
       "    <tr>\n",
       "      <td>2013-04-03</td>\n",
       "      <td>GPN</td>\n",
       "      <td>1</td>\n",
       "      <td>2013-04-02</td>\n",
       "    </tr>\n",
       "    <tr>\n",
       "      <td>2013-04-03</td>\n",
       "      <td>MKC</td>\n",
       "      <td>1</td>\n",
       "      <td>2013-04-02</td>\n",
       "    </tr>\n",
       "    <tr>\n",
       "      <td>2013-04-04</td>\n",
       "      <td>AYI</td>\n",
       "      <td>1</td>\n",
       "      <td>2013-04-03</td>\n",
       "    </tr>\n",
       "    <tr>\n",
       "      <td>...</td>\n",
       "      <td>...</td>\n",
       "      <td>...</td>\n",
       "      <td>...</td>\n",
       "    </tr>\n",
       "    <tr>\n",
       "      <td>2013-06-28</td>\n",
       "      <td>MKC</td>\n",
       "      <td>1</td>\n",
       "      <td>2013-06-27</td>\n",
       "    </tr>\n",
       "    <tr>\n",
       "      <td>2013-06-28</td>\n",
       "      <td>NKE</td>\n",
       "      <td>1</td>\n",
       "      <td>2013-06-27</td>\n",
       "    </tr>\n",
       "    <tr>\n",
       "      <td>2013-06-28</td>\n",
       "      <td>WOR</td>\n",
       "      <td>1</td>\n",
       "      <td>2013-06-27</td>\n",
       "    </tr>\n",
       "    <tr>\n",
       "      <td>2013-07-01</td>\n",
       "      <td>AZZ</td>\n",
       "      <td>1</td>\n",
       "      <td>2013-06-28</td>\n",
       "    </tr>\n",
       "    <tr>\n",
       "      <td>2013-07-01</td>\n",
       "      <td>FINL</td>\n",
       "      <td>-1</td>\n",
       "      <td>2013-06-28</td>\n",
       "    </tr>\n",
       "  </tbody>\n",
       "</table>\n",
       "<p>1750 rows × 3 columns</p>\n",
       "</div>"
      ],
      "text/plain": [
       "             ticker  prediction earnings_date\n",
       "trading_date                                 \n",
       "2013-04-01     KYAK           1    2013-03-29\n",
       "2013-04-02      ACH          -1    2013-04-01\n",
       "2013-04-03      GPN           1    2013-04-02\n",
       "2013-04-03      MKC           1    2013-04-02\n",
       "2013-04-04      AYI           1    2013-04-03\n",
       "...             ...         ...           ...\n",
       "2013-06-28      MKC           1    2013-06-27\n",
       "2013-06-28      NKE           1    2013-06-27\n",
       "2013-06-28      WOR           1    2013-06-27\n",
       "2013-07-01      AZZ           1    2013-06-28\n",
       "2013-07-01     FINL          -1    2013-06-28\n",
       "\n",
       "[1750 rows x 3 columns]"
      ]
     },
     "execution_count": 63,
     "metadata": {},
     "output_type": "execute_result"
    }
   ],
   "source": [
    "quarter = pd.DataFrame(test_data[i][['ticker','date']])\n",
    "quarter['prediction'] = preds[i-1]\n",
    "\n",
    "quarter['earnings_date'] = quarter['date'].map(lambda x:x-BDay(n=1))  # BDay():  possibly n business days, default n=1\n",
    "quarter.rename(columns={'date':'trading_date'}, inplace=True)\n",
    "quarter.reset_index(inplace=True, drop=True)\n",
    "quarter.set_index('trading_date', inplace=True)\n",
    "quarter"
   ]
  },
  {
   "cell_type": "markdown",
   "metadata": {},
   "source": [
    "Using the predictions for each stock in each testing period, we computed the list of all trades. Here the printed result shows following informations:\n",
    "- `trading_date` (i.e, the day after an earnings release) \n",
    "- `ticker` (i.e. stock company name)\n",
    "- `prediction` (i.e. trading action: +1 represents buying, -1 represents selling, 0 represents doing nothing)\n",
    "- `earnings_date` (i.e. earnings release date)"
   ]
  },
  {
   "cell_type": "markdown",
   "metadata": {},
   "source": [
    "### 2. Compute the list of all trades of the whole period predicted by the model\n",
    "\n",
    "Use the same procedure as above.But instead of only computing for one quarter, now we compute list of all trades for the whole period."
   ]
  },
  {
   "cell_type": "code",
   "execution_count": 64,
   "metadata": {},
   "outputs": [
    {
     "data": {
      "text/html": [
       "<div>\n",
       "<style scoped>\n",
       "    .dataframe tbody tr th:only-of-type {\n",
       "        vertical-align: middle;\n",
       "    }\n",
       "\n",
       "    .dataframe tbody tr th {\n",
       "        vertical-align: top;\n",
       "    }\n",
       "\n",
       "    .dataframe thead th {\n",
       "        text-align: right;\n",
       "    }\n",
       "</style>\n",
       "<table border=\"1\" class=\"dataframe\">\n",
       "  <thead>\n",
       "    <tr style=\"text-align: right;\">\n",
       "      <th></th>\n",
       "      <th>ticker</th>\n",
       "      <th>prediction</th>\n",
       "      <th>earnings_date</th>\n",
       "    </tr>\n",
       "    <tr>\n",
       "      <th>trading_date</th>\n",
       "      <th></th>\n",
       "      <th></th>\n",
       "      <th></th>\n",
       "    </tr>\n",
       "  </thead>\n",
       "  <tbody>\n",
       "    <tr>\n",
       "      <td>2003-07-01</td>\n",
       "      <td>IBN</td>\n",
       "      <td>1</td>\n",
       "      <td>2003-06-30</td>\n",
       "    </tr>\n",
       "    <tr>\n",
       "      <td>2003-07-02</td>\n",
       "      <td>EMMS</td>\n",
       "      <td>1</td>\n",
       "      <td>2003-07-01</td>\n",
       "    </tr>\n",
       "    <tr>\n",
       "      <td>2003-07-02</td>\n",
       "      <td>STZ</td>\n",
       "      <td>1</td>\n",
       "      <td>2003-07-01</td>\n",
       "    </tr>\n",
       "    <tr>\n",
       "      <td>2003-07-08</td>\n",
       "      <td>OOM</td>\n",
       "      <td>1</td>\n",
       "      <td>2003-07-07</td>\n",
       "    </tr>\n",
       "    <tr>\n",
       "      <td>2003-07-09</td>\n",
       "      <td>AMB</td>\n",
       "      <td>1</td>\n",
       "      <td>2003-07-08</td>\n",
       "    </tr>\n",
       "    <tr>\n",
       "      <td>...</td>\n",
       "      <td>...</td>\n",
       "      <td>...</td>\n",
       "      <td>...</td>\n",
       "    </tr>\n",
       "    <tr>\n",
       "      <td>2018-06-29</td>\n",
       "      <td>MKC</td>\n",
       "      <td>1</td>\n",
       "      <td>2018-06-28</td>\n",
       "    </tr>\n",
       "    <tr>\n",
       "      <td>2018-06-29</td>\n",
       "      <td>NKE</td>\n",
       "      <td>1</td>\n",
       "      <td>2018-06-28</td>\n",
       "    </tr>\n",
       "    <tr>\n",
       "      <td>2018-06-29</td>\n",
       "      <td>SHLM</td>\n",
       "      <td>1</td>\n",
       "      <td>2018-06-28</td>\n",
       "    </tr>\n",
       "    <tr>\n",
       "      <td>2018-06-29</td>\n",
       "      <td>SNX</td>\n",
       "      <td>1</td>\n",
       "      <td>2018-06-28</td>\n",
       "    </tr>\n",
       "    <tr>\n",
       "      <td>2018-06-29</td>\n",
       "      <td>WBA</td>\n",
       "      <td>1</td>\n",
       "      <td>2018-06-28</td>\n",
       "    </tr>\n",
       "  </tbody>\n",
       "</table>\n",
       "<p>95251 rows × 3 columns</p>\n",
       "</div>"
      ],
      "text/plain": [
       "             ticker  prediction earnings_date\n",
       "trading_date                                 \n",
       "2003-07-01      IBN           1    2003-06-30\n",
       "2003-07-02     EMMS           1    2003-07-01\n",
       "2003-07-02      STZ           1    2003-07-01\n",
       "2003-07-08      OOM           1    2003-07-07\n",
       "2003-07-09      AMB           1    2003-07-08\n",
       "...             ...         ...           ...\n",
       "2018-06-29      MKC           1    2018-06-28\n",
       "2018-06-29      NKE           1    2018-06-28\n",
       "2018-06-29     SHLM           1    2018-06-28\n",
       "2018-06-29      SNX           1    2018-06-28\n",
       "2018-06-29      WBA           1    2018-06-28\n",
       "\n",
       "[95251 rows x 3 columns]"
      ]
     },
     "execution_count": 64,
     "metadata": {},
     "output_type": "execute_result"
    }
   ],
   "source": [
    "df = pd.DataFrame(test_data[1][['ticker','date']])\n",
    "df['prediction'] = preds[0]\n",
    "\n",
    "for i in range(2,len(test_data)-1):\n",
    "    df_i = pd.DataFrame(test_data[i][['ticker','date']])\n",
    "    df_i['prediction'] = preds[i-1]\n",
    "    df = pd.concat([df, df_i], axis=0)\n",
    "\n",
    "df['earnings_date'] = df['date'].map(lambda x:x-BDay())\n",
    "df.rename(columns={'date':'trading_date'}, inplace=True)\n",
    "df.reset_index(inplace=True, drop=True)\n",
    "df.set_index('trading_date', inplace=True)\n",
    "df"
   ]
  },
  {
   "cell_type": "markdown",
   "metadata": {},
   "source": [
    "## Part 5: Trading Strategy #1"
   ]
  },
  {
   "cell_type": "markdown",
   "metadata": {},
   "source": [
    "**Strategy Procedure**:\n",
    "\n",
    "- We start with 1 dollar.\n",
    "\n",
    "- For each quarter, `allocate our capital equally among stocks` we consider in the quarter, the stocks that are available will vary from quarter to quarter.\n",
    "\n",
    "- We go \n",
    "  - **long** each `Stock` with prediction **+1**\n",
    "  - **short** each `Stock` with prediction **-1**\n",
    "  - **do nothing** if the prediction is **0**\n",
    "\n",
    "- We hold until the day after the next earnings release. "
   ]
  },
  {
   "cell_type": "markdown",
   "metadata": {},
   "source": [
    "Since the **predictions** predicted by the Voting Classifier above for each stock in the testing period represent the **trading actions**: \n",
    "- **+1** represents buying\n",
    "- **-1** represents selling\n",
    "- **0** represents doing nothing\n",
    "\n",
    "Therefore, the Strategy used in the Voting Classifier above is just the Strategy #1 we want here. And its results are shown below again as the results of the Strategy #1."
   ]
  },
  {
   "cell_type": "markdown",
   "metadata": {},
   "source": [
    "### Strategy 1# Performance Results: Total P/L, Sharpe Ratio, Information Ratio, Alpha $\\alpha$, Max Drawdown\n",
    "\n",
    "- `Total P/L = 4.132873740636822`\n",
    "- `Sharpe Ratio = 1.3926980297737317`\n",
    "- `Information Ratio = 1.2949462404339067`\n",
    "- `Alpha = 0.1752940717803241`\n",
    "- `Max Drawdown = 0.10663920665432225`"
   ]
  },
  {
   "cell_type": "markdown",
   "metadata": {},
   "source": [
    "## Part 6: Trading Strategy #2"
   ]
  },
  {
   "cell_type": "markdown",
   "metadata": {},
   "source": [
    "**Strategy Procedure**:\n",
    "\n",
    "- We start with 1 dollar.\n",
    "\n",
    "- For each quarter, `allocate our capital equally among trades` we consider in the quarter, the trades that are available will vary from quarter to quarter.\n",
    "\n",
    "- We go \n",
    "  - **buy** the `Stock` and **short** the `SPY` with prediction **+1**\n",
    "  - **short** the `Stock` and **buy** the `SPY` with prediction **-1**\n",
    "  - **do nothing** if the prediction is **0**\n",
    "  - Note: here we treat each one of three combined trading actions of `Stock` and `SPY` above as one trade in that period.\n",
    "\n",
    "- We hold until the day after the next earnings release. "
   ]
  },
  {
   "cell_type": "markdown",
   "metadata": {},
   "source": [
    "We can see that the only difference between Strategy #2 and the Strategy #1 is the trading actions in each period. **Strategy #1** trades only `Stock`, however, **Strategy #2** trades `Stock` and `SPY` at the same time. Therefore, within each trade, we need to decide how to allocate our capital between the `Stock` and `SPY`.\n",
    "\n",
    "Here I tried different combinations of capital allocation ratio for `Stock` and `SPY`: \n",
    "- **`0.5:0.5, 0.6:0.4, 0.7:0.3, 0.8:0.2, 0.9:0.1, 1.0:0`**\n",
    "\n",
    "For example, if we use the capital allocation ratio of **0.8:0.2 (Stock/SPY)**. Suppose we have capital = $m$ at the begining of a quarter and we consider $n$ companies to trade in that quarter. Since for each quarter, we allocate our capital equally among trades we consider in this quarter, so we will allocate $m/n$ dollars to each company. Then, if the prediction of that company is **+1** in this period, then we will use $0.8 m/n$ dollars to **buy** the `Stock` and use $0.2 m/n$ dollars to **short** the `SPY`.\n",
    "\n",
    "Note that when using 1.0 Stock/0.0 SPY, it is just the same as **Strategy #1**.\n",
    "\n",
    "The Strategy Performance Results are shown as below."
   ]
  },
  {
   "cell_type": "markdown",
   "metadata": {},
   "source": [
    "### Strategy 2# Performance Results: Total P/L, Sharpe Ratio, Information Ratio, Alpha $\\alpha$, Max Drawdown"
   ]
  },
  {
   "cell_type": "code",
   "execution_count": 68,
   "metadata": {},
   "outputs": [],
   "source": [
    "df = pd.DataFrame(columns=[\"Stock\",\"SPY\",\"Total_P/L\",\"Sharpe_Ratio\",\"Information_Ratio\",\"alpha\",\"Max_Drawdown\"])\n",
    "\n",
    "for k in range(5,11):\n",
    "    df.loc[k, [\"Stock\",\"SPY\"]] = [k/10, 1-k/10]\n",
    "    \n",
    "    # Implement Strategy: different allocations on Stock and SPY\n",
    "    P_L = []\n",
    "    x = [0,1]\n",
    "    ret = []\n",
    "    for i in range(1,len(test_frames)-1):\n",
    "        profit_i = (  k/10 * preds[i-1] * test_frames[i]['next_period_return'] \\\n",
    "                    - (1-k/10) * preds[i-1] * test_frames[i]['spy_next_period_return'] ).sum()\n",
    "        P_L.append(profit_i)\n",
    "        positions = np.sum(np.abs(preds[i-1]))\n",
    "        ret.append((1.0/positions) * profit_i)\n",
    "        x.append(x[i] + (x[i]/positions) * profit_i)\n",
    "    \n",
    "    # Total P/L\n",
    "    df.loc[k,\"Total_P/L\"] = x[-1]\n",
    "\n",
    "    # Sharpe Ratio\n",
    "    SPY = pd.read_pickle('../data/SPY_cum_ret.pkl')\n",
    "    SPY = SPY.loc['2003-10-01':]\n",
    "    SPY = SPY.resample('Q').ffill()\n",
    "    SPY['spy_cum_ret'] = (SPY['spy_cum_ret'] - SPY['spy_cum_ret'][0] + 1)\n",
    "    SPY['strategy'] = x[1:]\n",
    "    SPY = SPY.resample('A').bfill()\n",
    "    strategy_mean_ret = (SPY['strategy'] - 1).diff().mean()\n",
    "    strategy_std = (SPY['strategy'] - 1).diff().std()\n",
    "    df.loc[k,\"Sharpe_Ratio\"] = strategy_mean_ret/strategy_std\n",
    "\n",
    "    # Information Ratio\n",
    "    strategy_ret = (SPY['strategy'] - 1).diff().values[1:]\n",
    "    spy_ret = (SPY['spy_cum_ret'] - 1).diff().values[1:]\n",
    "    beta = (np.cov(spy_ret,strategy_ret)/np.var(spy_ret))[1,0]\n",
    "    residual_ret = strategy_ret - beta * spy_ret\n",
    "    df.loc[k,\"Information_Ratio\"] = np.mean(residual_ret)/np.std(residual_ret)\n",
    "\n",
    "    # alpha\n",
    "    df.loc[k,\"alpha\"] = round(np.mean(residual_ret),5)\n",
    "\n",
    "    # Max Drawdown\n",
    "    df.loc[k,\"Max_Drawdown\"] = round(max_drawdown(SPY['strategy']),5)\n",
    "\n",
    "df.set_index([\"Stock\",\"SPY\"], inplace=True)"
   ]
  },
  {
   "cell_type": "code",
   "execution_count": 69,
   "metadata": {},
   "outputs": [
    {
     "data": {
      "text/html": [
       "<div>\n",
       "<style scoped>\n",
       "    .dataframe tbody tr th:only-of-type {\n",
       "        vertical-align: middle;\n",
       "    }\n",
       "\n",
       "    .dataframe tbody tr th {\n",
       "        vertical-align: top;\n",
       "    }\n",
       "\n",
       "    .dataframe thead th {\n",
       "        text-align: right;\n",
       "    }\n",
       "</style>\n",
       "<table border=\"1\" class=\"dataframe\">\n",
       "  <thead>\n",
       "    <tr style=\"text-align: right;\">\n",
       "      <th></th>\n",
       "      <th></th>\n",
       "      <th>Total_P/L</th>\n",
       "      <th>Sharpe_Ratio</th>\n",
       "      <th>Information_Ratio</th>\n",
       "      <th>alpha</th>\n",
       "      <th>Max_Drawdown</th>\n",
       "    </tr>\n",
       "    <tr>\n",
       "      <th>Stock</th>\n",
       "      <th>SPY</th>\n",
       "      <th></th>\n",
       "      <th></th>\n",
       "      <th></th>\n",
       "      <th></th>\n",
       "      <th></th>\n",
       "    </tr>\n",
       "  </thead>\n",
       "  <tbody>\n",
       "    <tr>\n",
       "      <td>0.5</td>\n",
       "      <td>0.5</td>\n",
       "      <td>1.32522</td>\n",
       "      <td>1.20684</td>\n",
       "      <td>1.30461</td>\n",
       "      <td>0.02257</td>\n",
       "      <td>0.01028</td>\n",
       "    </tr>\n",
       "    <tr>\n",
       "      <td>0.6</td>\n",
       "      <td>0.4</td>\n",
       "      <td>1.68359</td>\n",
       "      <td>1.63963</td>\n",
       "      <td>1.6063</td>\n",
       "      <td>0.04243</td>\n",
       "      <td>0.00839</td>\n",
       "    </tr>\n",
       "    <tr>\n",
       "      <td>0.7</td>\n",
       "      <td>0.3</td>\n",
       "      <td>2.12631</td>\n",
       "      <td>1.61525</td>\n",
       "      <td>1.55056</td>\n",
       "      <td>0.0667</td>\n",
       "      <td>0.0115</td>\n",
       "    </tr>\n",
       "    <tr>\n",
       "      <td>0.8</td>\n",
       "      <td>0.2</td>\n",
       "      <td>2.66959</td>\n",
       "      <td>1.53592</td>\n",
       "      <td>1.45684</td>\n",
       "      <td>0.09626</td>\n",
       "      <td>0.01836</td>\n",
       "    </tr>\n",
       "    <tr>\n",
       "      <td>0.9</td>\n",
       "      <td>0.1</td>\n",
       "      <td>3.33169</td>\n",
       "      <td>1.46031</td>\n",
       "      <td>1.37085</td>\n",
       "      <td>0.13209</td>\n",
       "      <td>0.05055</td>\n",
       "    </tr>\n",
       "    <tr>\n",
       "      <td>1.0</td>\n",
       "      <td>0.0</td>\n",
       "      <td>4.13287</td>\n",
       "      <td>1.3927</td>\n",
       "      <td>1.29495</td>\n",
       "      <td>0.17529</td>\n",
       "      <td>0.10664</td>\n",
       "    </tr>\n",
       "  </tbody>\n",
       "</table>\n",
       "</div>"
      ],
      "text/plain": [
       "          Total_P/L Sharpe_Ratio Information_Ratio    alpha Max_Drawdown\n",
       "Stock SPY                                                               \n",
       "0.5   0.5   1.32522      1.20684           1.30461  0.02257      0.01028\n",
       "0.6   0.4   1.68359      1.63963            1.6063  0.04243      0.00839\n",
       "0.7   0.3   2.12631      1.61525           1.55056   0.0667       0.0115\n",
       "0.8   0.2   2.66959      1.53592           1.45684  0.09626      0.01836\n",
       "0.9   0.1   3.33169      1.46031           1.37085  0.13209      0.05055\n",
       "1.0   0.0   4.13287       1.3927           1.29495  0.17529      0.10664"
      ]
     },
     "execution_count": 69,
     "metadata": {},
     "output_type": "execute_result"
    }
   ],
   "source": [
    "df"
   ]
  },
  {
   "cell_type": "code",
   "execution_count": 70,
   "metadata": {},
   "outputs": [
    {
     "data": {
      "image/png": "[encoded data removed]",
      "text/plain": [
       "<Figure size 432x288 with 1 Axes>"
      ]
     },
     "metadata": {
      "needs_background": "light"
     },
     "output_type": "display_data"
    }
   ],
   "source": [
    "df.reset_index(inplace=True)\n",
    "df.drop(\"Stock\", axis=1, inplace=True)\n",
    "df.set_index(\"SPY\", inplace=True)\n",
    "df.plot();"
   ]
  },
  {
   "cell_type": "markdown",
   "metadata": {},
   "source": [
    "**Results**:\n",
    "\n",
    "We can see that, as the percentile of the capital that the trading for `SPY` gets in each trade increases:\n",
    "\n",
    "- Total P/L decreases\n",
    "- Sharpe Ratio and Information Ratio both first increase then decrease, and they get their highest values at 0.4 (i.e. 0.6 Stock/0.4 SPY)\n",
    "- Alpha and Max Darwdown both slightly decrease"
   ]
  },
  {
   "cell_type": "markdown",
   "metadata": {},
   "source": [
    "### Comparing Strategy #1 & Strategy #2\n",
    "Since when using **1.0 Stock/0.0 SPY** is just the same as **Strategy #1**, we can look at the above figure and conclude that:\n",
    "- Strategy #2 will generally have lower total P/L than Strategy #1.\n",
    "- Strategy #2 may have larger or lower Sharpe Ratio and Information Ratio than Strategy #1, which depends on the capital allocation ratio for Stock and SPY. When using about 0.6 Stock/0.4 SPY, the Sharpe Ratio and Information Ratio of Strategy #2 can be maximized for this model.\n",
    "- Strategy #2 will generally have lower Alpha and Max Darwdown than Strategy #1, but the difference is very small."
   ]
  },
  {
   "cell_type": "code",
   "execution_count": null,
   "metadata": {},
   "outputs": [],
   "source": []
  }
 ],
 "metadata": {
  "kernelspec": {
   "display_name": "Python 3",
   "language": "python",
   "name": "python3"
  },
  "language_info": {
   "codemirror_mode": {
    "name": "ipython",
    "version": 3
   },
   "file_extension": ".py",
   "mimetype": "text/x-python",
   "name": "python",
   "nbconvert_exporter": "python",
   "pygments_lexer": "ipython3",
   "version": "3.7.1"
  }
 },
 "nbformat": 4,
 "nbformat_minor": 2
}
